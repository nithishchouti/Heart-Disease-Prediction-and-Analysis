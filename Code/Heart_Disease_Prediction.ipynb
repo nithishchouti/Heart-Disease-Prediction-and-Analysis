{
  "nbformat": 4,
  "nbformat_minor": 0,
  "metadata": {
    "colab": {
      "provenance": []
    },
    "kernelspec": {
      "name": "python3",
      "display_name": "Python 3"
    },
    "language_info": {
      "name": "python"
    }
  },
  "cells": [
    {
      "cell_type": "markdown",
      "source": [
        "# Heart Disease Prediction"
      ],
      "metadata": {
        "id": "ZjsqlcK7JSsk"
      }
    },
    {
      "cell_type": "markdown",
      "source": [
        "## Installing the desired version of Scikit Learn"
      ],
      "metadata": {
        "id": "Qi7xrogkJb7N"
      }
    },
    {
      "cell_type": "code",
      "execution_count": 218,
      "metadata": {
        "id": "HaoKyWtVJSEQ"
      },
      "outputs": [],
      "source": [
        "!pip install scikit-learn==1.3.2"
      ]
    },
    {
      "cell_type": "code",
      "source": [
        "import sklearn\n",
        "print(sklearn.__version__)"
      ],
      "metadata": {
        "colab": {
          "base_uri": "https://localhost:8080/"
        },
        "id": "pzJ2pMhpJZUJ",
        "outputId": "c7743055-28c6-48e7-f247-17ed83681fc4"
      },
      "execution_count": 219,
      "outputs": [
        {
          "output_type": "stream",
          "name": "stdout",
          "text": [
            "1.3.2\n"
          ]
        }
      ]
    },
    {
      "cell_type": "markdown",
      "source": [
        "## Importing required Libraries"
      ],
      "metadata": {
        "id": "Pw2dgORdJm9K"
      }
    },
    {
      "cell_type": "code",
      "source": [
        "import numpy as np\n",
        "import pandas as pd\n",
        "import matplotlib.pyplot as plt\n",
        "import seaborn as sns\n",
        "from sklearn.preprocessing import StandardScaler\n",
        "from sklearn.model_selection import train_test_split\n",
        "from sklearn.metrics import accuracy_score, precision_score, recall_score, f1_score\n",
        "\n",
        "%matplotlib inline\n",
        "\n",
        "import os\n",
        "print(os.listdir())\n",
        "\n",
        "import warnings\n",
        "warnings.filterwarnings('ignore')"
      ],
      "metadata": {
        "colab": {
          "base_uri": "https://localhost:8080/"
        },
        "id": "xZuMZtNoJk4F",
        "outputId": "d5faee55-57a3-463f-f55e-2a03bd125fe9"
      },
      "execution_count": 220,
      "outputs": [
        {
          "output_type": "stream",
          "name": "stdout",
          "text": [
            "['.config', 'cleaned_dataset_heart.csv', 'dataset_heart.csv', '.ipynb_checkpoints', 'sample_data']\n"
          ]
        }
      ]
    },
    {
      "cell_type": "markdown",
      "source": [
        "## Loading the dataset"
      ],
      "metadata": {
        "id": "xwEFvROIKAEO"
      }
    },
    {
      "cell_type": "code",
      "source": [
        "# Load your dataset into a DataFrame called df\n",
        "dataframe = pd.read_csv('dataset_heart.csv')"
      ],
      "metadata": {
        "id": "r9Sd_IvvJ_Y6"
      },
      "execution_count": 221,
      "outputs": []
    },
    {
      "cell_type": "code",
      "source": [
        "dataframe.info()"
      ],
      "metadata": {
        "colab": {
          "base_uri": "https://localhost:8080/"
        },
        "id": "LPtinliUKFPk",
        "outputId": "96cd20d7-2642-45ae-eab7-f435851df002"
      },
      "execution_count": 222,
      "outputs": [
        {
          "output_type": "stream",
          "name": "stdout",
          "text": [
            "<class 'pandas.core.frame.DataFrame'>\n",
            "RangeIndex: 1190 entries, 0 to 1189\n",
            "Data columns (total 12 columns):\n",
            " #   Column               Non-Null Count  Dtype  \n",
            "---  ------               --------------  -----  \n",
            " 0   age                  1190 non-null   int64  \n",
            " 1   sex                  1190 non-null   int64  \n",
            " 2   chest_pain_type      1190 non-null   int64  \n",
            " 3   resting_bp_s         1190 non-null   int64  \n",
            " 4   cholesterol          1190 non-null   int64  \n",
            " 5   fasting_blood_sugar  1190 non-null   int64  \n",
            " 6   resting_ecg          1190 non-null   int64  \n",
            " 7   max_heart_rate       1190 non-null   int64  \n",
            " 8   exercise_angina      1190 non-null   int64  \n",
            " 9   oldpeak              1190 non-null   float64\n",
            " 10  ST_slope             1190 non-null   int64  \n",
            " 11  target               1190 non-null   int64  \n",
            "dtypes: float64(1), int64(11)\n",
            "memory usage: 111.7 KB\n"
          ]
        }
      ]
    },
    {
      "cell_type": "markdown",
      "source": [
        "## Pre-processing of the Dataset"
      ],
      "metadata": {
        "id": "6FtlEp85KG7M"
      }
    },
    {
      "cell_type": "markdown",
      "source": [
        "### Removing Duplicates"
      ],
      "metadata": {
        "id": "P-Ob5CWbKxbw"
      }
    },
    {
      "cell_type": "code",
      "source": [
        "# Remove duplicate values\n",
        "dataframe.drop_duplicates(inplace=True)\n",
        "\n",
        "# Print the total remaining values\n",
        "print(f\"Total remaining values: {len(dataframe)}\")"
      ],
      "metadata": {
        "colab": {
          "base_uri": "https://localhost:8080/"
        },
        "id": "HM4-ewpdKwFq",
        "outputId": "16848d11-ce28-4263-da44-57d8c14d3ad2"
      },
      "execution_count": 223,
      "outputs": [
        {
          "output_type": "stream",
          "name": "stdout",
          "text": [
            "Total remaining values: 918\n"
          ]
        }
      ]
    },
    {
      "cell_type": "markdown",
      "source": [
        "### Removing negatives from Oldpeak (as they are invalid for the oldpeak)"
      ],
      "metadata": {
        "id": "1ec82M8KLHwI"
      }
    },
    {
      "cell_type": "code",
      "source": [
        "# Remove negative values from the 'oldpeak' column\n",
        "dataframe = dataframe[dataframe['oldpeak'] >= 0]\n",
        "\n",
        "# Print the total remaining values\n",
        "print(f\"Total remaining values: {len(dataframe)}\")"
      ],
      "metadata": {
        "colab": {
          "base_uri": "https://localhost:8080/"
        },
        "id": "qAPLCu3jLCV_",
        "outputId": "fb6221e6-003a-41ce-8856-02ec5e9b5212"
      },
      "execution_count": 224,
      "outputs": [
        {
          "output_type": "stream",
          "name": "stdout",
          "text": [
            "Total remaining values: 905\n"
          ]
        }
      ]
    },
    {
      "cell_type": "markdown",
      "source": [
        "### Using Hot Deck Imputation for filling the invalid zeroes in 'colesterol' and 'resting_bps' column"
      ],
      "metadata": {
        "id": "57wA-Dt6LX7t"
      }
    },
    {
      "cell_type": "code",
      "source": [
        "# Specify the column names\n",
        "column_names = ['cholesterol', 'resting_bp_s']\n",
        "\n",
        "# Perform hot deck imputation\n",
        "for col in column_names:\n",
        "    # Create a copy of the column\n",
        "    col_copy = dataframe[col].copy()\n",
        "\n",
        "    # Identify the non-zero values\n",
        "    non_zero_values = col_copy[col_copy != 0]\n",
        "\n",
        "    # Replace the zero values with a random non-zero value\n",
        "    col_copy[col_copy == 0] = non_zero_values.sample(col_copy[col_copy == 0].count(), replace=True).values\n",
        "\n",
        "    # Update the original column\n",
        "    dataframe[col] = col_copy\n",
        "\n",
        "# Print the updated DataFrame\n",
        "print(dataframe)\n",
        "\n",
        "# Print the total remaining values\n",
        "print(f\"Total remaining values: {len(dataframe)}\")"
      ],
      "metadata": {
        "colab": {
          "base_uri": "https://localhost:8080/"
        },
        "id": "UWTZ6YaNLSEa",
        "outputId": "65414428-4c27-4631-dd11-2318cd87f9b9"
      },
      "execution_count": 225,
      "outputs": [
        {
          "output_type": "stream",
          "name": "stdout",
          "text": [
            "      age  sex  chest_pain_type  resting_bp_s  cholesterol  \\\n",
            "0      40    1                2           140          289   \n",
            "1      49    0                3           160          180   \n",
            "2      37    1                2           130          283   \n",
            "3      48    0                4           138          214   \n",
            "4      54    1                3           150          195   \n",
            "...   ...  ...              ...           ...          ...   \n",
            "1185   45    1                1           110          264   \n",
            "1186   68    1                4           144          193   \n",
            "1187   57    1                4           130          131   \n",
            "1188   57    0                2           130          236   \n",
            "1189   38    1                3           138          175   \n",
            "\n",
            "      fasting_blood_sugar  resting_ecg  max_heart_rate  exercise_angina  \\\n",
            "0                       0            0             172                0   \n",
            "1                       0            0             156                0   \n",
            "2                       0            1              98                0   \n",
            "3                       0            0             108                1   \n",
            "4                       0            0             122                0   \n",
            "...                   ...          ...             ...              ...   \n",
            "1185                    0            0             132                0   \n",
            "1186                    1            0             141                0   \n",
            "1187                    0            0             115                1   \n",
            "1188                    0            2             174                0   \n",
            "1189                    0            0             173                0   \n",
            "\n",
            "      oldpeak  ST_slope  target  \n",
            "0         0.0         1       0  \n",
            "1         1.0         2       1  \n",
            "2         0.0         1       0  \n",
            "3         1.5         2       1  \n",
            "4         0.0         1       0  \n",
            "...       ...       ...     ...  \n",
            "1185      1.2         2       1  \n",
            "1186      3.4         2       1  \n",
            "1187      1.2         2       1  \n",
            "1188      0.0         2       1  \n",
            "1189      0.0         1       0  \n",
            "\n",
            "[905 rows x 12 columns]\n",
            "Total remaining values: 905\n"
          ]
        }
      ]
    },
    {
      "cell_type": "markdown",
      "source": [
        "### Using the cleaned dataset set for further evaluation"
      ],
      "metadata": {
        "id": "a-JmjQDsL9do"
      }
    },
    {
      "cell_type": "code",
      "source": [
        "#Uploading the Cleaned Dataset\n",
        "df = pd.read_csv('cleaned_dataset_heart.csv')"
      ],
      "metadata": {
        "id": "NqfltvmjMU05"
      },
      "execution_count": 226,
      "outputs": []
    },
    {
      "cell_type": "code",
      "source": [
        "df.head()"
      ],
      "metadata": {
        "colab": {
          "base_uri": "https://localhost:8080/",
          "height": 226
        },
        "id": "eZJ-eLbPMbPs",
        "outputId": "5b77d184-48d4-48d3-9baf-8df5a0e25544"
      },
      "execution_count": 227,
      "outputs": [
        {
          "output_type": "execute_result",
          "data": {
            "text/plain": [
              "   age  sex  chest_pain_type  resting_bp_s  cholesterol  fasting_blood_sugar  \\\n",
              "0   40    1                2           140          289                    0   \n",
              "1   49    0                3           160          180                    0   \n",
              "2   37    1                2           130          283                    0   \n",
              "3   48    0                4           138          214                    0   \n",
              "4   54    1                3           150          195                    0   \n",
              "\n",
              "   resting_ecg  max_heart_rate  exercise_angina  oldpeak  ST_slope  target  \n",
              "0            0             172                0      0.0         1       0  \n",
              "1            0             156                0      1.0         2       1  \n",
              "2            1              98                0      0.0         1       0  \n",
              "3            0             108                1      1.5         2       1  \n",
              "4            0             122                0      0.0         1       0  "
            ],
            "text/html": [
              "\n",
              "  <div id=\"df-500c5207-dd22-428d-b792-3479e39de6fd\" class=\"colab-df-container\">\n",
              "    <div>\n",
              "<style scoped>\n",
              "    .dataframe tbody tr th:only-of-type {\n",
              "        vertical-align: middle;\n",
              "    }\n",
              "\n",
              "    .dataframe tbody tr th {\n",
              "        vertical-align: top;\n",
              "    }\n",
              "\n",
              "    .dataframe thead th {\n",
              "        text-align: right;\n",
              "    }\n",
              "</style>\n",
              "<table border=\"1\" class=\"dataframe\">\n",
              "  <thead>\n",
              "    <tr style=\"text-align: right;\">\n",
              "      <th></th>\n",
              "      <th>age</th>\n",
              "      <th>sex</th>\n",
              "      <th>chest_pain_type</th>\n",
              "      <th>resting_bp_s</th>\n",
              "      <th>cholesterol</th>\n",
              "      <th>fasting_blood_sugar</th>\n",
              "      <th>resting_ecg</th>\n",
              "      <th>max_heart_rate</th>\n",
              "      <th>exercise_angina</th>\n",
              "      <th>oldpeak</th>\n",
              "      <th>ST_slope</th>\n",
              "      <th>target</th>\n",
              "    </tr>\n",
              "  </thead>\n",
              "  <tbody>\n",
              "    <tr>\n",
              "      <th>0</th>\n",
              "      <td>40</td>\n",
              "      <td>1</td>\n",
              "      <td>2</td>\n",
              "      <td>140</td>\n",
              "      <td>289</td>\n",
              "      <td>0</td>\n",
              "      <td>0</td>\n",
              "      <td>172</td>\n",
              "      <td>0</td>\n",
              "      <td>0.0</td>\n",
              "      <td>1</td>\n",
              "      <td>0</td>\n",
              "    </tr>\n",
              "    <tr>\n",
              "      <th>1</th>\n",
              "      <td>49</td>\n",
              "      <td>0</td>\n",
              "      <td>3</td>\n",
              "      <td>160</td>\n",
              "      <td>180</td>\n",
              "      <td>0</td>\n",
              "      <td>0</td>\n",
              "      <td>156</td>\n",
              "      <td>0</td>\n",
              "      <td>1.0</td>\n",
              "      <td>2</td>\n",
              "      <td>1</td>\n",
              "    </tr>\n",
              "    <tr>\n",
              "      <th>2</th>\n",
              "      <td>37</td>\n",
              "      <td>1</td>\n",
              "      <td>2</td>\n",
              "      <td>130</td>\n",
              "      <td>283</td>\n",
              "      <td>0</td>\n",
              "      <td>1</td>\n",
              "      <td>98</td>\n",
              "      <td>0</td>\n",
              "      <td>0.0</td>\n",
              "      <td>1</td>\n",
              "      <td>0</td>\n",
              "    </tr>\n",
              "    <tr>\n",
              "      <th>3</th>\n",
              "      <td>48</td>\n",
              "      <td>0</td>\n",
              "      <td>4</td>\n",
              "      <td>138</td>\n",
              "      <td>214</td>\n",
              "      <td>0</td>\n",
              "      <td>0</td>\n",
              "      <td>108</td>\n",
              "      <td>1</td>\n",
              "      <td>1.5</td>\n",
              "      <td>2</td>\n",
              "      <td>1</td>\n",
              "    </tr>\n",
              "    <tr>\n",
              "      <th>4</th>\n",
              "      <td>54</td>\n",
              "      <td>1</td>\n",
              "      <td>3</td>\n",
              "      <td>150</td>\n",
              "      <td>195</td>\n",
              "      <td>0</td>\n",
              "      <td>0</td>\n",
              "      <td>122</td>\n",
              "      <td>0</td>\n",
              "      <td>0.0</td>\n",
              "      <td>1</td>\n",
              "      <td>0</td>\n",
              "    </tr>\n",
              "  </tbody>\n",
              "</table>\n",
              "</div>\n",
              "    <div class=\"colab-df-buttons\">\n",
              "\n",
              "  <div class=\"colab-df-container\">\n",
              "    <button class=\"colab-df-convert\" onclick=\"convertToInteractive('df-500c5207-dd22-428d-b792-3479e39de6fd')\"\n",
              "            title=\"Convert this dataframe to an interactive table.\"\n",
              "            style=\"display:none;\">\n",
              "\n",
              "  <svg xmlns=\"http://www.w3.org/2000/svg\" height=\"24px\" viewBox=\"0 -960 960 960\">\n",
              "    <path d=\"M120-120v-720h720v720H120Zm60-500h600v-160H180v160Zm220 220h160v-160H400v160Zm0 220h160v-160H400v160ZM180-400h160v-160H180v160Zm440 0h160v-160H620v160ZM180-180h160v-160H180v160Zm440 0h160v-160H620v160Z\"/>\n",
              "  </svg>\n",
              "    </button>\n",
              "\n",
              "  <style>\n",
              "    .colab-df-container {\n",
              "      display:flex;\n",
              "      gap: 12px;\n",
              "    }\n",
              "\n",
              "    .colab-df-convert {\n",
              "      background-color: #E8F0FE;\n",
              "      border: none;\n",
              "      border-radius: 50%;\n",
              "      cursor: pointer;\n",
              "      display: none;\n",
              "      fill: #1967D2;\n",
              "      height: 32px;\n",
              "      padding: 0 0 0 0;\n",
              "      width: 32px;\n",
              "    }\n",
              "\n",
              "    .colab-df-convert:hover {\n",
              "      background-color: #E2EBFA;\n",
              "      box-shadow: 0px 1px 2px rgba(60, 64, 67, 0.3), 0px 1px 3px 1px rgba(60, 64, 67, 0.15);\n",
              "      fill: #174EA6;\n",
              "    }\n",
              "\n",
              "    .colab-df-buttons div {\n",
              "      margin-bottom: 4px;\n",
              "    }\n",
              "\n",
              "    [theme=dark] .colab-df-convert {\n",
              "      background-color: #3B4455;\n",
              "      fill: #D2E3FC;\n",
              "    }\n",
              "\n",
              "    [theme=dark] .colab-df-convert:hover {\n",
              "      background-color: #434B5C;\n",
              "      box-shadow: 0px 1px 3px 1px rgba(0, 0, 0, 0.15);\n",
              "      filter: drop-shadow(0px 1px 2px rgba(0, 0, 0, 0.3));\n",
              "      fill: #FFFFFF;\n",
              "    }\n",
              "  </style>\n",
              "\n",
              "    <script>\n",
              "      const buttonEl =\n",
              "        document.querySelector('#df-500c5207-dd22-428d-b792-3479e39de6fd button.colab-df-convert');\n",
              "      buttonEl.style.display =\n",
              "        google.colab.kernel.accessAllowed ? 'block' : 'none';\n",
              "\n",
              "      async function convertToInteractive(key) {\n",
              "        const element = document.querySelector('#df-500c5207-dd22-428d-b792-3479e39de6fd');\n",
              "        const dataTable =\n",
              "          await google.colab.kernel.invokeFunction('convertToInteractive',\n",
              "                                                    [key], {});\n",
              "        if (!dataTable) return;\n",
              "\n",
              "        const docLinkHtml = 'Like what you see? Visit the ' +\n",
              "          '<a target=\"_blank\" href=https://colab.research.google.com/notebooks/data_table.ipynb>data table notebook</a>'\n",
              "          + ' to learn more about interactive tables.';\n",
              "        element.innerHTML = '';\n",
              "        dataTable['output_type'] = 'display_data';\n",
              "        await google.colab.output.renderOutput(dataTable, element);\n",
              "        const docLink = document.createElement('div');\n",
              "        docLink.innerHTML = docLinkHtml;\n",
              "        element.appendChild(docLink);\n",
              "      }\n",
              "    </script>\n",
              "  </div>\n",
              "\n",
              "\n",
              "<div id=\"df-1b1c58b5-3c50-41da-929b-d1bffe9fff4f\">\n",
              "  <button class=\"colab-df-quickchart\" onclick=\"quickchart('df-1b1c58b5-3c50-41da-929b-d1bffe9fff4f')\"\n",
              "            title=\"Suggest charts\"\n",
              "            style=\"display:none;\">\n",
              "\n",
              "<svg xmlns=\"http://www.w3.org/2000/svg\" height=\"24px\"viewBox=\"0 0 24 24\"\n",
              "     width=\"24px\">\n",
              "    <g>\n",
              "        <path d=\"M19 3H5c-1.1 0-2 .9-2 2v14c0 1.1.9 2 2 2h14c1.1 0 2-.9 2-2V5c0-1.1-.9-2-2-2zM9 17H7v-7h2v7zm4 0h-2V7h2v10zm4 0h-2v-4h2v4z\"/>\n",
              "    </g>\n",
              "</svg>\n",
              "  </button>\n",
              "\n",
              "<style>\n",
              "  .colab-df-quickchart {\n",
              "      --bg-color: #E8F0FE;\n",
              "      --fill-color: #1967D2;\n",
              "      --hover-bg-color: #E2EBFA;\n",
              "      --hover-fill-color: #174EA6;\n",
              "      --disabled-fill-color: #AAA;\n",
              "      --disabled-bg-color: #DDD;\n",
              "  }\n",
              "\n",
              "  [theme=dark] .colab-df-quickchart {\n",
              "      --bg-color: #3B4455;\n",
              "      --fill-color: #D2E3FC;\n",
              "      --hover-bg-color: #434B5C;\n",
              "      --hover-fill-color: #FFFFFF;\n",
              "      --disabled-bg-color: #3B4455;\n",
              "      --disabled-fill-color: #666;\n",
              "  }\n",
              "\n",
              "  .colab-df-quickchart {\n",
              "    background-color: var(--bg-color);\n",
              "    border: none;\n",
              "    border-radius: 50%;\n",
              "    cursor: pointer;\n",
              "    display: none;\n",
              "    fill: var(--fill-color);\n",
              "    height: 32px;\n",
              "    padding: 0;\n",
              "    width: 32px;\n",
              "  }\n",
              "\n",
              "  .colab-df-quickchart:hover {\n",
              "    background-color: var(--hover-bg-color);\n",
              "    box-shadow: 0 1px 2px rgba(60, 64, 67, 0.3), 0 1px 3px 1px rgba(60, 64, 67, 0.15);\n",
              "    fill: var(--button-hover-fill-color);\n",
              "  }\n",
              "\n",
              "  .colab-df-quickchart-complete:disabled,\n",
              "  .colab-df-quickchart-complete:disabled:hover {\n",
              "    background-color: var(--disabled-bg-color);\n",
              "    fill: var(--disabled-fill-color);\n",
              "    box-shadow: none;\n",
              "  }\n",
              "\n",
              "  .colab-df-spinner {\n",
              "    border: 2px solid var(--fill-color);\n",
              "    border-color: transparent;\n",
              "    border-bottom-color: var(--fill-color);\n",
              "    animation:\n",
              "      spin 1s steps(1) infinite;\n",
              "  }\n",
              "\n",
              "  @keyframes spin {\n",
              "    0% {\n",
              "      border-color: transparent;\n",
              "      border-bottom-color: var(--fill-color);\n",
              "      border-left-color: var(--fill-color);\n",
              "    }\n",
              "    20% {\n",
              "      border-color: transparent;\n",
              "      border-left-color: var(--fill-color);\n",
              "      border-top-color: var(--fill-color);\n",
              "    }\n",
              "    30% {\n",
              "      border-color: transparent;\n",
              "      border-left-color: var(--fill-color);\n",
              "      border-top-color: var(--fill-color);\n",
              "      border-right-color: var(--fill-color);\n",
              "    }\n",
              "    40% {\n",
              "      border-color: transparent;\n",
              "      border-right-color: var(--fill-color);\n",
              "      border-top-color: var(--fill-color);\n",
              "    }\n",
              "    60% {\n",
              "      border-color: transparent;\n",
              "      border-right-color: var(--fill-color);\n",
              "    }\n",
              "    80% {\n",
              "      border-color: transparent;\n",
              "      border-right-color: var(--fill-color);\n",
              "      border-bottom-color: var(--fill-color);\n",
              "    }\n",
              "    90% {\n",
              "      border-color: transparent;\n",
              "      border-bottom-color: var(--fill-color);\n",
              "    }\n",
              "  }\n",
              "</style>\n",
              "\n",
              "  <script>\n",
              "    async function quickchart(key) {\n",
              "      const quickchartButtonEl =\n",
              "        document.querySelector('#' + key + ' button');\n",
              "      quickchartButtonEl.disabled = true;  // To prevent multiple clicks.\n",
              "      quickchartButtonEl.classList.add('colab-df-spinner');\n",
              "      try {\n",
              "        const charts = await google.colab.kernel.invokeFunction(\n",
              "            'suggestCharts', [key], {});\n",
              "      } catch (error) {\n",
              "        console.error('Error during call to suggestCharts:', error);\n",
              "      }\n",
              "      quickchartButtonEl.classList.remove('colab-df-spinner');\n",
              "      quickchartButtonEl.classList.add('colab-df-quickchart-complete');\n",
              "    }\n",
              "    (() => {\n",
              "      let quickchartButtonEl =\n",
              "        document.querySelector('#df-1b1c58b5-3c50-41da-929b-d1bffe9fff4f button');\n",
              "      quickchartButtonEl.style.display =\n",
              "        google.colab.kernel.accessAllowed ? 'block' : 'none';\n",
              "    })();\n",
              "  </script>\n",
              "</div>\n",
              "    </div>\n",
              "  </div>\n"
            ],
            "application/vnd.google.colaboratory.intrinsic+json": {
              "type": "dataframe",
              "variable_name": "df",
              "summary": "{\n  \"name\": \"df\",\n  \"rows\": 905,\n  \"fields\": [\n    {\n      \"column\": \"age\",\n      \"properties\": {\n        \"dtype\": \"number\",\n        \"std\": 9,\n        \"min\": 28,\n        \"max\": 77,\n        \"num_unique_values\": 50,\n        \"samples\": [\n          44,\n          68,\n          66\n        ],\n        \"semantic_type\": \"\",\n        \"description\": \"\"\n      }\n    },\n    {\n      \"column\": \"sex\",\n      \"properties\": {\n        \"dtype\": \"number\",\n        \"std\": 0,\n        \"min\": 0,\n        \"max\": 1,\n        \"num_unique_values\": 2,\n        \"samples\": [\n          0,\n          1\n        ],\n        \"semantic_type\": \"\",\n        \"description\": \"\"\n      }\n    },\n    {\n      \"column\": \"chest_pain_type\",\n      \"properties\": {\n        \"dtype\": \"number\",\n        \"std\": 0,\n        \"min\": 1,\n        \"max\": 4,\n        \"num_unique_values\": 4,\n        \"samples\": [\n          3,\n          1\n        ],\n        \"semantic_type\": \"\",\n        \"description\": \"\"\n      }\n    },\n    {\n      \"column\": \"resting_bp_s\",\n      \"properties\": {\n        \"dtype\": \"number\",\n        \"std\": 17,\n        \"min\": 80,\n        \"max\": 200,\n        \"num_unique_values\": 66,\n        \"samples\": [\n          156,\n          192\n        ],\n        \"semantic_type\": \"\",\n        \"description\": \"\"\n      }\n    },\n    {\n      \"column\": \"cholesterol\",\n      \"properties\": {\n        \"dtype\": \"number\",\n        \"std\": 57,\n        \"min\": 85,\n        \"max\": 603,\n        \"num_unique_values\": 221,\n        \"samples\": [\n          226,\n          491\n        ],\n        \"semantic_type\": \"\",\n        \"description\": \"\"\n      }\n    },\n    {\n      \"column\": \"fasting_blood_sugar\",\n      \"properties\": {\n        \"dtype\": \"number\",\n        \"std\": 0,\n        \"min\": 0,\n        \"max\": 1,\n        \"num_unique_values\": 2,\n        \"samples\": [\n          1,\n          0\n        ],\n        \"semantic_type\": \"\",\n        \"description\": \"\"\n      }\n    },\n    {\n      \"column\": \"resting_ecg\",\n      \"properties\": {\n        \"dtype\": \"number\",\n        \"std\": 0,\n        \"min\": 0,\n        \"max\": 2,\n        \"num_unique_values\": 3,\n        \"samples\": [\n          0,\n          1\n        ],\n        \"semantic_type\": \"\",\n        \"description\": \"\"\n      }\n    },\n    {\n      \"column\": \"max_heart_rate\",\n      \"properties\": {\n        \"dtype\": \"number\",\n        \"std\": 25,\n        \"min\": 60,\n        \"max\": 202,\n        \"num_unique_values\": 119,\n        \"samples\": [\n          132,\n          70\n        ],\n        \"semantic_type\": \"\",\n        \"description\": \"\"\n      }\n    },\n    {\n      \"column\": \"exercise_angina\",\n      \"properties\": {\n        \"dtype\": \"number\",\n        \"std\": 0,\n        \"min\": 0,\n        \"max\": 1,\n        \"num_unique_values\": 2,\n        \"samples\": [\n          1,\n          0\n        ],\n        \"semantic_type\": \"\",\n        \"description\": \"\"\n      }\n    },\n    {\n      \"column\": \"oldpeak\",\n      \"properties\": {\n        \"dtype\": \"number\",\n        \"std\": 1.0469435717454905,\n        \"min\": 0.0,\n        \"max\": 6.2,\n        \"num_unique_values\": 43,\n        \"samples\": [\n          3.2,\n          0.9\n        ],\n        \"semantic_type\": \"\",\n        \"description\": \"\"\n      }\n    },\n    {\n      \"column\": \"ST_slope\",\n      \"properties\": {\n        \"dtype\": \"number\",\n        \"std\": 0,\n        \"min\": 0,\n        \"max\": 3,\n        \"num_unique_values\": 4,\n        \"samples\": [\n          2,\n          0\n        ],\n        \"semantic_type\": \"\",\n        \"description\": \"\"\n      }\n    },\n    {\n      \"column\": \"target\",\n      \"properties\": {\n        \"dtype\": \"number\",\n        \"std\": 0,\n        \"min\": 0,\n        \"max\": 1,\n        \"num_unique_values\": 2,\n        \"samples\": [\n          1,\n          0\n        ],\n        \"semantic_type\": \"\",\n        \"description\": \"\"\n      }\n    }\n  ]\n}"
            }
          },
          "metadata": {},
          "execution_count": 227
        }
      ]
    },
    {
      "cell_type": "code",
      "source": [
        "df.tail()"
      ],
      "metadata": {
        "colab": {
          "base_uri": "https://localhost:8080/",
          "height": 226
        },
        "id": "F_KqoGmrMeLP",
        "outputId": "90c4bd20-7f47-426b-e851-1e23b6a18227"
      },
      "execution_count": 228,
      "outputs": [
        {
          "output_type": "execute_result",
          "data": {
            "text/plain": [
              "     age  sex  chest_pain_type  resting_bp_s  cholesterol  \\\n",
              "900   45    1                1           110          264   \n",
              "901   68    1                4           144          193   \n",
              "902   57    1                4           130          131   \n",
              "903   57    0                2           130          236   \n",
              "904   38    1                3           138          175   \n",
              "\n",
              "     fasting_blood_sugar  resting_ecg  max_heart_rate  exercise_angina  \\\n",
              "900                    0            0             132                0   \n",
              "901                    1            0             141                0   \n",
              "902                    0            0             115                1   \n",
              "903                    0            2             174                0   \n",
              "904                    0            0             173                0   \n",
              "\n",
              "     oldpeak  ST_slope  target  \n",
              "900      1.2         2       1  \n",
              "901      3.4         2       1  \n",
              "902      1.2         2       1  \n",
              "903      0.0         2       1  \n",
              "904      0.0         1       0  "
            ],
            "text/html": [
              "\n",
              "  <div id=\"df-7aa1108f-5e54-4f5f-8b0b-4a7ef0ba951d\" class=\"colab-df-container\">\n",
              "    <div>\n",
              "<style scoped>\n",
              "    .dataframe tbody tr th:only-of-type {\n",
              "        vertical-align: middle;\n",
              "    }\n",
              "\n",
              "    .dataframe tbody tr th {\n",
              "        vertical-align: top;\n",
              "    }\n",
              "\n",
              "    .dataframe thead th {\n",
              "        text-align: right;\n",
              "    }\n",
              "</style>\n",
              "<table border=\"1\" class=\"dataframe\">\n",
              "  <thead>\n",
              "    <tr style=\"text-align: right;\">\n",
              "      <th></th>\n",
              "      <th>age</th>\n",
              "      <th>sex</th>\n",
              "      <th>chest_pain_type</th>\n",
              "      <th>resting_bp_s</th>\n",
              "      <th>cholesterol</th>\n",
              "      <th>fasting_blood_sugar</th>\n",
              "      <th>resting_ecg</th>\n",
              "      <th>max_heart_rate</th>\n",
              "      <th>exercise_angina</th>\n",
              "      <th>oldpeak</th>\n",
              "      <th>ST_slope</th>\n",
              "      <th>target</th>\n",
              "    </tr>\n",
              "  </thead>\n",
              "  <tbody>\n",
              "    <tr>\n",
              "      <th>900</th>\n",
              "      <td>45</td>\n",
              "      <td>1</td>\n",
              "      <td>1</td>\n",
              "      <td>110</td>\n",
              "      <td>264</td>\n",
              "      <td>0</td>\n",
              "      <td>0</td>\n",
              "      <td>132</td>\n",
              "      <td>0</td>\n",
              "      <td>1.2</td>\n",
              "      <td>2</td>\n",
              "      <td>1</td>\n",
              "    </tr>\n",
              "    <tr>\n",
              "      <th>901</th>\n",
              "      <td>68</td>\n",
              "      <td>1</td>\n",
              "      <td>4</td>\n",
              "      <td>144</td>\n",
              "      <td>193</td>\n",
              "      <td>1</td>\n",
              "      <td>0</td>\n",
              "      <td>141</td>\n",
              "      <td>0</td>\n",
              "      <td>3.4</td>\n",
              "      <td>2</td>\n",
              "      <td>1</td>\n",
              "    </tr>\n",
              "    <tr>\n",
              "      <th>902</th>\n",
              "      <td>57</td>\n",
              "      <td>1</td>\n",
              "      <td>4</td>\n",
              "      <td>130</td>\n",
              "      <td>131</td>\n",
              "      <td>0</td>\n",
              "      <td>0</td>\n",
              "      <td>115</td>\n",
              "      <td>1</td>\n",
              "      <td>1.2</td>\n",
              "      <td>2</td>\n",
              "      <td>1</td>\n",
              "    </tr>\n",
              "    <tr>\n",
              "      <th>903</th>\n",
              "      <td>57</td>\n",
              "      <td>0</td>\n",
              "      <td>2</td>\n",
              "      <td>130</td>\n",
              "      <td>236</td>\n",
              "      <td>0</td>\n",
              "      <td>2</td>\n",
              "      <td>174</td>\n",
              "      <td>0</td>\n",
              "      <td>0.0</td>\n",
              "      <td>2</td>\n",
              "      <td>1</td>\n",
              "    </tr>\n",
              "    <tr>\n",
              "      <th>904</th>\n",
              "      <td>38</td>\n",
              "      <td>1</td>\n",
              "      <td>3</td>\n",
              "      <td>138</td>\n",
              "      <td>175</td>\n",
              "      <td>0</td>\n",
              "      <td>0</td>\n",
              "      <td>173</td>\n",
              "      <td>0</td>\n",
              "      <td>0.0</td>\n",
              "      <td>1</td>\n",
              "      <td>0</td>\n",
              "    </tr>\n",
              "  </tbody>\n",
              "</table>\n",
              "</div>\n",
              "    <div class=\"colab-df-buttons\">\n",
              "\n",
              "  <div class=\"colab-df-container\">\n",
              "    <button class=\"colab-df-convert\" onclick=\"convertToInteractive('df-7aa1108f-5e54-4f5f-8b0b-4a7ef0ba951d')\"\n",
              "            title=\"Convert this dataframe to an interactive table.\"\n",
              "            style=\"display:none;\">\n",
              "\n",
              "  <svg xmlns=\"http://www.w3.org/2000/svg\" height=\"24px\" viewBox=\"0 -960 960 960\">\n",
              "    <path d=\"M120-120v-720h720v720H120Zm60-500h600v-160H180v160Zm220 220h160v-160H400v160Zm0 220h160v-160H400v160ZM180-400h160v-160H180v160Zm440 0h160v-160H620v160ZM180-180h160v-160H180v160Zm440 0h160v-160H620v160Z\"/>\n",
              "  </svg>\n",
              "    </button>\n",
              "\n",
              "  <style>\n",
              "    .colab-df-container {\n",
              "      display:flex;\n",
              "      gap: 12px;\n",
              "    }\n",
              "\n",
              "    .colab-df-convert {\n",
              "      background-color: #E8F0FE;\n",
              "      border: none;\n",
              "      border-radius: 50%;\n",
              "      cursor: pointer;\n",
              "      display: none;\n",
              "      fill: #1967D2;\n",
              "      height: 32px;\n",
              "      padding: 0 0 0 0;\n",
              "      width: 32px;\n",
              "    }\n",
              "\n",
              "    .colab-df-convert:hover {\n",
              "      background-color: #E2EBFA;\n",
              "      box-shadow: 0px 1px 2px rgba(60, 64, 67, 0.3), 0px 1px 3px 1px rgba(60, 64, 67, 0.15);\n",
              "      fill: #174EA6;\n",
              "    }\n",
              "\n",
              "    .colab-df-buttons div {\n",
              "      margin-bottom: 4px;\n",
              "    }\n",
              "\n",
              "    [theme=dark] .colab-df-convert {\n",
              "      background-color: #3B4455;\n",
              "      fill: #D2E3FC;\n",
              "    }\n",
              "\n",
              "    [theme=dark] .colab-df-convert:hover {\n",
              "      background-color: #434B5C;\n",
              "      box-shadow: 0px 1px 3px 1px rgba(0, 0, 0, 0.15);\n",
              "      filter: drop-shadow(0px 1px 2px rgba(0, 0, 0, 0.3));\n",
              "      fill: #FFFFFF;\n",
              "    }\n",
              "  </style>\n",
              "\n",
              "    <script>\n",
              "      const buttonEl =\n",
              "        document.querySelector('#df-7aa1108f-5e54-4f5f-8b0b-4a7ef0ba951d button.colab-df-convert');\n",
              "      buttonEl.style.display =\n",
              "        google.colab.kernel.accessAllowed ? 'block' : 'none';\n",
              "\n",
              "      async function convertToInteractive(key) {\n",
              "        const element = document.querySelector('#df-7aa1108f-5e54-4f5f-8b0b-4a7ef0ba951d');\n",
              "        const dataTable =\n",
              "          await google.colab.kernel.invokeFunction('convertToInteractive',\n",
              "                                                    [key], {});\n",
              "        if (!dataTable) return;\n",
              "\n",
              "        const docLinkHtml = 'Like what you see? Visit the ' +\n",
              "          '<a target=\"_blank\" href=https://colab.research.google.com/notebooks/data_table.ipynb>data table notebook</a>'\n",
              "          + ' to learn more about interactive tables.';\n",
              "        element.innerHTML = '';\n",
              "        dataTable['output_type'] = 'display_data';\n",
              "        await google.colab.output.renderOutput(dataTable, element);\n",
              "        const docLink = document.createElement('div');\n",
              "        docLink.innerHTML = docLinkHtml;\n",
              "        element.appendChild(docLink);\n",
              "      }\n",
              "    </script>\n",
              "  </div>\n",
              "\n",
              "\n",
              "<div id=\"df-4072f9a8-51b4-4689-b2cc-a3250e1b61f5\">\n",
              "  <button class=\"colab-df-quickchart\" onclick=\"quickchart('df-4072f9a8-51b4-4689-b2cc-a3250e1b61f5')\"\n",
              "            title=\"Suggest charts\"\n",
              "            style=\"display:none;\">\n",
              "\n",
              "<svg xmlns=\"http://www.w3.org/2000/svg\" height=\"24px\"viewBox=\"0 0 24 24\"\n",
              "     width=\"24px\">\n",
              "    <g>\n",
              "        <path d=\"M19 3H5c-1.1 0-2 .9-2 2v14c0 1.1.9 2 2 2h14c1.1 0 2-.9 2-2V5c0-1.1-.9-2-2-2zM9 17H7v-7h2v7zm4 0h-2V7h2v10zm4 0h-2v-4h2v4z\"/>\n",
              "    </g>\n",
              "</svg>\n",
              "  </button>\n",
              "\n",
              "<style>\n",
              "  .colab-df-quickchart {\n",
              "      --bg-color: #E8F0FE;\n",
              "      --fill-color: #1967D2;\n",
              "      --hover-bg-color: #E2EBFA;\n",
              "      --hover-fill-color: #174EA6;\n",
              "      --disabled-fill-color: #AAA;\n",
              "      --disabled-bg-color: #DDD;\n",
              "  }\n",
              "\n",
              "  [theme=dark] .colab-df-quickchart {\n",
              "      --bg-color: #3B4455;\n",
              "      --fill-color: #D2E3FC;\n",
              "      --hover-bg-color: #434B5C;\n",
              "      --hover-fill-color: #FFFFFF;\n",
              "      --disabled-bg-color: #3B4455;\n",
              "      --disabled-fill-color: #666;\n",
              "  }\n",
              "\n",
              "  .colab-df-quickchart {\n",
              "    background-color: var(--bg-color);\n",
              "    border: none;\n",
              "    border-radius: 50%;\n",
              "    cursor: pointer;\n",
              "    display: none;\n",
              "    fill: var(--fill-color);\n",
              "    height: 32px;\n",
              "    padding: 0;\n",
              "    width: 32px;\n",
              "  }\n",
              "\n",
              "  .colab-df-quickchart:hover {\n",
              "    background-color: var(--hover-bg-color);\n",
              "    box-shadow: 0 1px 2px rgba(60, 64, 67, 0.3), 0 1px 3px 1px rgba(60, 64, 67, 0.15);\n",
              "    fill: var(--button-hover-fill-color);\n",
              "  }\n",
              "\n",
              "  .colab-df-quickchart-complete:disabled,\n",
              "  .colab-df-quickchart-complete:disabled:hover {\n",
              "    background-color: var(--disabled-bg-color);\n",
              "    fill: var(--disabled-fill-color);\n",
              "    box-shadow: none;\n",
              "  }\n",
              "\n",
              "  .colab-df-spinner {\n",
              "    border: 2px solid var(--fill-color);\n",
              "    border-color: transparent;\n",
              "    border-bottom-color: var(--fill-color);\n",
              "    animation:\n",
              "      spin 1s steps(1) infinite;\n",
              "  }\n",
              "\n",
              "  @keyframes spin {\n",
              "    0% {\n",
              "      border-color: transparent;\n",
              "      border-bottom-color: var(--fill-color);\n",
              "      border-left-color: var(--fill-color);\n",
              "    }\n",
              "    20% {\n",
              "      border-color: transparent;\n",
              "      border-left-color: var(--fill-color);\n",
              "      border-top-color: var(--fill-color);\n",
              "    }\n",
              "    30% {\n",
              "      border-color: transparent;\n",
              "      border-left-color: var(--fill-color);\n",
              "      border-top-color: var(--fill-color);\n",
              "      border-right-color: var(--fill-color);\n",
              "    }\n",
              "    40% {\n",
              "      border-color: transparent;\n",
              "      border-right-color: var(--fill-color);\n",
              "      border-top-color: var(--fill-color);\n",
              "    }\n",
              "    60% {\n",
              "      border-color: transparent;\n",
              "      border-right-color: var(--fill-color);\n",
              "    }\n",
              "    80% {\n",
              "      border-color: transparent;\n",
              "      border-right-color: var(--fill-color);\n",
              "      border-bottom-color: var(--fill-color);\n",
              "    }\n",
              "    90% {\n",
              "      border-color: transparent;\n",
              "      border-bottom-color: var(--fill-color);\n",
              "    }\n",
              "  }\n",
              "</style>\n",
              "\n",
              "  <script>\n",
              "    async function quickchart(key) {\n",
              "      const quickchartButtonEl =\n",
              "        document.querySelector('#' + key + ' button');\n",
              "      quickchartButtonEl.disabled = true;  // To prevent multiple clicks.\n",
              "      quickchartButtonEl.classList.add('colab-df-spinner');\n",
              "      try {\n",
              "        const charts = await google.colab.kernel.invokeFunction(\n",
              "            'suggestCharts', [key], {});\n",
              "      } catch (error) {\n",
              "        console.error('Error during call to suggestCharts:', error);\n",
              "      }\n",
              "      quickchartButtonEl.classList.remove('colab-df-spinner');\n",
              "      quickchartButtonEl.classList.add('colab-df-quickchart-complete');\n",
              "    }\n",
              "    (() => {\n",
              "      let quickchartButtonEl =\n",
              "        document.querySelector('#df-4072f9a8-51b4-4689-b2cc-a3250e1b61f5 button');\n",
              "      quickchartButtonEl.style.display =\n",
              "        google.colab.kernel.accessAllowed ? 'block' : 'none';\n",
              "    })();\n",
              "  </script>\n",
              "</div>\n",
              "    </div>\n",
              "  </div>\n"
            ],
            "application/vnd.google.colaboratory.intrinsic+json": {
              "type": "dataframe",
              "summary": "{\n  \"name\": \"df\",\n  \"rows\": 5,\n  \"fields\": [\n    {\n      \"column\": \"age\",\n      \"properties\": {\n        \"dtype\": \"number\",\n        \"std\": 11,\n        \"min\": 38,\n        \"max\": 68,\n        \"num_unique_values\": 4,\n        \"samples\": [\n          68,\n          38,\n          45\n        ],\n        \"semantic_type\": \"\",\n        \"description\": \"\"\n      }\n    },\n    {\n      \"column\": \"sex\",\n      \"properties\": {\n        \"dtype\": \"number\",\n        \"std\": 0,\n        \"min\": 0,\n        \"max\": 1,\n        \"num_unique_values\": 2,\n        \"samples\": [\n          0,\n          1\n        ],\n        \"semantic_type\": \"\",\n        \"description\": \"\"\n      }\n    },\n    {\n      \"column\": \"chest_pain_type\",\n      \"properties\": {\n        \"dtype\": \"number\",\n        \"std\": 1,\n        \"min\": 1,\n        \"max\": 4,\n        \"num_unique_values\": 4,\n        \"samples\": [\n          4,\n          3\n        ],\n        \"semantic_type\": \"\",\n        \"description\": \"\"\n      }\n    },\n    {\n      \"column\": \"resting_bp_s\",\n      \"properties\": {\n        \"dtype\": \"number\",\n        \"std\": 12,\n        \"min\": 110,\n        \"max\": 144,\n        \"num_unique_values\": 4,\n        \"samples\": [\n          144,\n          138\n        ],\n        \"semantic_type\": \"\",\n        \"description\": \"\"\n      }\n    },\n    {\n      \"column\": \"cholesterol\",\n      \"properties\": {\n        \"dtype\": \"number\",\n        \"std\": 52,\n        \"min\": 131,\n        \"max\": 264,\n        \"num_unique_values\": 5,\n        \"samples\": [\n          193,\n          175\n        ],\n        \"semantic_type\": \"\",\n        \"description\": \"\"\n      }\n    },\n    {\n      \"column\": \"fasting_blood_sugar\",\n      \"properties\": {\n        \"dtype\": \"number\",\n        \"std\": 0,\n        \"min\": 0,\n        \"max\": 1,\n        \"num_unique_values\": 2,\n        \"samples\": [\n          1,\n          0\n        ],\n        \"semantic_type\": \"\",\n        \"description\": \"\"\n      }\n    },\n    {\n      \"column\": \"resting_ecg\",\n      \"properties\": {\n        \"dtype\": \"number\",\n        \"std\": 0,\n        \"min\": 0,\n        \"max\": 2,\n        \"num_unique_values\": 2,\n        \"samples\": [\n          2,\n          0\n        ],\n        \"semantic_type\": \"\",\n        \"description\": \"\"\n      }\n    },\n    {\n      \"column\": \"max_heart_rate\",\n      \"properties\": {\n        \"dtype\": \"number\",\n        \"std\": 25,\n        \"min\": 115,\n        \"max\": 174,\n        \"num_unique_values\": 5,\n        \"samples\": [\n          141,\n          173\n        ],\n        \"semantic_type\": \"\",\n        \"description\": \"\"\n      }\n    },\n    {\n      \"column\": \"exercise_angina\",\n      \"properties\": {\n        \"dtype\": \"number\",\n        \"std\": 0,\n        \"min\": 0,\n        \"max\": 1,\n        \"num_unique_values\": 2,\n        \"samples\": [\n          1,\n          0\n        ],\n        \"semantic_type\": \"\",\n        \"description\": \"\"\n      }\n    },\n    {\n      \"column\": \"oldpeak\",\n      \"properties\": {\n        \"dtype\": \"number\",\n        \"std\": 1.3885243966167826,\n        \"min\": 0.0,\n        \"max\": 3.4,\n        \"num_unique_values\": 3,\n        \"samples\": [\n          1.2,\n          3.4\n        ],\n        \"semantic_type\": \"\",\n        \"description\": \"\"\n      }\n    },\n    {\n      \"column\": \"ST_slope\",\n      \"properties\": {\n        \"dtype\": \"number\",\n        \"std\": 0,\n        \"min\": 1,\n        \"max\": 2,\n        \"num_unique_values\": 2,\n        \"samples\": [\n          1,\n          2\n        ],\n        \"semantic_type\": \"\",\n        \"description\": \"\"\n      }\n    },\n    {\n      \"column\": \"target\",\n      \"properties\": {\n        \"dtype\": \"number\",\n        \"std\": 0,\n        \"min\": 0,\n        \"max\": 1,\n        \"num_unique_values\": 2,\n        \"samples\": [\n          0,\n          1\n        ],\n        \"semantic_type\": \"\",\n        \"description\": \"\"\n      }\n    }\n  ]\n}"
            }
          },
          "metadata": {},
          "execution_count": 228
        }
      ]
    },
    {
      "cell_type": "code",
      "source": [
        "df.shape"
      ],
      "metadata": {
        "colab": {
          "base_uri": "https://localhost:8080/"
        },
        "id": "yDi7X2nUMf6R",
        "outputId": "9a528069-8ab0-444e-ca9e-3ff324739b03"
      },
      "execution_count": 229,
      "outputs": [
        {
          "output_type": "execute_result",
          "data": {
            "text/plain": [
              "(905, 12)"
            ]
          },
          "metadata": {},
          "execution_count": 229
        }
      ]
    },
    {
      "cell_type": "markdown",
      "source": [
        "## Feature Extraction"
      ],
      "metadata": {
        "id": "uaTNzzzPMhRa"
      }
    },
    {
      "cell_type": "markdown",
      "source": [
        "### Dropping the 'fasting_blood_sugar' column as 77% of the data contains zero and has no meaning to our classification. The 'tagert' is the output value."
      ],
      "metadata": {
        "id": "feQH1PH2Mv6Q"
      }
    },
    {
      "cell_type": "code",
      "source": [
        "#Feature Extraction\n",
        "x_data = df.drop(['target', 'fasting_blood_sugar'], axis = 1)\n",
        "y = df['target']"
      ],
      "metadata": {
        "id": "TnUYLUVHNFSn"
      },
      "execution_count": 230,
      "outputs": []
    },
    {
      "cell_type": "markdown",
      "source": [
        "### Perform PCA on the feature data"
      ],
      "metadata": {
        "id": "4dYGCmHMOS23"
      }
    },
    {
      "cell_type": "code",
      "source": [
        "# Import the necessary libraries\n",
        "from sklearn.decomposition import PCA\n",
        "from sklearn.ensemble import RandomForestClassifier\n",
        "\n",
        "# Perform PCA on the feature data (x_data)\n",
        "pca = PCA(n_components=9)  # Choose the number of principal components you want to retain\n",
        "x_pca = pca.fit_transform(x_data)\n",
        "\n",
        "# Print the explained variance ratio of the principal components\n",
        "print(\"Explained Variance Ratio:\", pca.explained_variance_ratio_)\n",
        "\n",
        "# Visualize the explained variance ratio\n",
        "import matplotlib.pyplot as plt\n",
        "plt.figure(figsize=(8, 6))\n",
        "plt.plot(range(1, len(pca.explained_variance_ratio_) + 1), pca.explained_variance_ratio_)\n",
        "plt.xlabel(\"Number of Principal Components\")\n",
        "plt.ylabel(\"Explained Variance Ratio\")\n",
        "plt.title(\"Scree Plot\")\n",
        "plt.show()"
      ],
      "metadata": {
        "colab": {
          "base_uri": "https://localhost:8080/",
          "height": 625
        },
        "id": "9IJcjeGkORaM",
        "outputId": "d4610f3e-904e-4d50-91a4-18ec529f966c"
      },
      "execution_count": 231,
      "outputs": [
        {
          "output_type": "stream",
          "name": "stdout",
          "text": [
            "Explained Variance Ratio: [7.61346620e-01 1.51098755e-01 7.11213488e-02 1.57403305e-02\n",
            " 2.86081391e-04 1.51435644e-04 1.36108050e-04 5.03781905e-05\n",
            " 3.68659804e-05]\n"
          ]
        },
        {
          "output_type": "display_data",
          "data": {
            "text/plain": [
              "<Figure size 800x600 with 1 Axes>"
            ],
            "image/png": "[encoded data removed]"
          },
          "metadata": {}
        }
      ]
    },
    {
      "cell_type": "markdown",
      "source": [
        "## Train Test Split"
      ],
      "metadata": {
        "id": "drqWHH4oOZTS"
      }
    },
    {
      "cell_type": "code",
      "source": [
        "# Split the transformed data (x_pca) into training and testing sets\n",
        "x_train_pca, x_test_pca, y_train, y_test = train_test_split(x_pca, y, test_size=0.2, random_state=0, stratify=y)"
      ],
      "metadata": {
        "id": "HNkuZFu2OcCj"
      },
      "execution_count": 232,
      "outputs": []
    },
    {
      "cell_type": "markdown",
      "source": [
        "## Machine Learning Algorithms"
      ],
      "metadata": {
        "id": "7xbd4Th-Og43"
      }
    },
    {
      "cell_type": "markdown",
      "source": [
        "### Logistic Regression"
      ],
      "metadata": {
        "id": "4NnqXRVccfO5"
      }
    },
    {
      "cell_type": "code",
      "source": [
        "from sklearn.linear_model import LogisticRegression\n",
        "from sklearn.metrics import accuracy_score, precision_score, recall_score, f1_score\n",
        "\n",
        "max_accuracy = 0\n",
        "for x in range(20):\n",
        "    lr = LogisticRegression(random_state=x)\n",
        "    lr.fit(x_train_pca, y_train)\n",
        "    y_pred_lr = lr.predict(x_test_pca)\n",
        "    current_accuracy = round(accuracy_score(y_test, y_pred_lr) * 100, 2)\n",
        "    if current_accuracy > max_accuracy:\n",
        "        max_accuracy = current_accuracy\n",
        "        best_x = x\n",
        "\n",
        "lr = LogisticRegression(random_state=best_x)\n",
        "lr.fit(x_train_pca, y_train)\n",
        "y_pred_lr = lr.predict(x_test_pca)\n",
        "\n",
        "# Calculate the evaluation metrics\n",
        "score_lr = round(accuracy_score(y_test, y_pred_lr) * 100, 2)\n",
        "precision = round(precision_score(y_test, y_pred_lr) * 100, 2)\n",
        "recall = round(recall_score(y_test, y_pred_lr) * 100, 2)\n",
        "f1 = round(f1_score(y_test, y_pred_lr) * 100, 2)\n",
        "\n",
        "# Print the results\n",
        "print(\"Logistic Regression Performance:\")\n",
        "print(\"Accuracy: {0}%\".format(score_lr))\n",
        "print(\"Precision: {0}%\".format(precision))\n",
        "print(\"Recall: {0}%\".format(recall))\n",
        "print(\"F1-score: {0}%\".format(f1))"
      ],
      "metadata": {
        "id": "PzcikPZvce1v",
        "colab": {
          "base_uri": "https://localhost:8080/"
        },
        "outputId": "53a12bff-4c08-43f8-d573-44c4802de930"
      },
      "execution_count": 233,
      "outputs": [
        {
          "output_type": "stream",
          "name": "stdout",
          "text": [
            "Logistic Regression Performance:\n",
            "Accuracy: 83.43%\n",
            "Precision: 85.71%\n",
            "Recall: 84.0%\n",
            "F1-score: 84.85%\n"
          ]
        }
      ]
    },
    {
      "cell_type": "markdown",
      "source": [
        "### Support Vector Machine"
      ],
      "metadata": {
        "id": "ldppfeU8f6hZ"
      }
    },
    {
      "cell_type": "code",
      "source": [
        "from sklearn.svm import SVC\n",
        "from sklearn.metrics import accuracy_score, precision_score, recall_score, f1_score\n",
        "\n",
        "max_accuracy = 0\n",
        "for x in range(20):\n",
        "    svm = SVC(random_state=x)\n",
        "    svm.fit(x_train_pca, y_train)\n",
        "    y_pred_svm = svm.predict(x_test_pca)\n",
        "    current_accuracy = round(accuracy_score(y_test, y_pred_svm) * 100, 2)\n",
        "    if current_accuracy > max_accuracy:\n",
        "        max_accuracy = current_accuracy\n",
        "        best_x = x\n",
        "\n",
        "svm = SVC(random_state=best_x)\n",
        "svm.fit(x_train_pca, y_train)\n",
        "y_pred_svm = svm.predict(x_test_pca)\n",
        "\n",
        "# Calculate the evaluation metrics\n",
        "score_svm = round(accuracy_score(y_test, y_pred_svm) * 100, 2)\n",
        "precision = round(precision_score(y_test, y_pred_svm) * 100, 2)\n",
        "recall = round(recall_score(y_test, y_pred_svm) * 100, 2)\n",
        "f1 = round(f1_score(y_test, y_pred_svm) * 100, 2)\n",
        "\n",
        "# Print the results\n",
        "print(\"Support Vector Machine Performance:\")\n",
        "print(\"Accuracy: {0}%\".format(score_svm))\n",
        "print(\"Precision: {0}%\".format(precision))\n",
        "print(\"Recall: {0}%\".format(recall))\n",
        "print(\"F1-score: {0}%\".format(f1))"
      ],
      "metadata": {
        "id": "AYRoXgp-f-lO",
        "colab": {
          "base_uri": "https://localhost:8080/"
        },
        "outputId": "6811a2eb-9079-4ae5-a1e8-94b3a1bb0cb2"
      },
      "execution_count": 234,
      "outputs": [
        {
          "output_type": "stream",
          "name": "stdout",
          "text": [
            "Support Vector Machine Performance:\n",
            "Accuracy: 71.27%\n",
            "Precision: 71.05%\n",
            "Recall: 81.0%\n",
            "F1-score: 75.7%\n"
          ]
        }
      ]
    },
    {
      "cell_type": "markdown",
      "source": [
        "### K-Nearest Neighbours"
      ],
      "metadata": {
        "id": "7k-ccGqff_GZ"
      }
    },
    {
      "cell_type": "code",
      "source": [
        "from sklearn.neighbors import KNeighborsClassifier\n",
        "from sklearn.metrics import accuracy_score, precision_score, recall_score, f1_score\n",
        "\n",
        "max_accuracy = 0\n",
        "for k in range(1, 21):\n",
        "    knn = KNeighborsClassifier(n_neighbors=k)\n",
        "    knn.fit(x_train_pca, y_train)\n",
        "    y_pred_knn = knn.predict(x_test_pca)\n",
        "    current_accuracy = round(accuracy_score(y_test, y_pred_knn) * 100, 2)\n",
        "    if current_accuracy > max_accuracy:\n",
        "        max_accuracy = current_accuracy\n",
        "        best_k = k\n",
        "\n",
        "knn = KNeighborsClassifier(n_neighbors=best_k)\n",
        "knn.fit(x_train_pca, y_train)\n",
        "y_pred_knn = knn.predict(x_test_pca)\n",
        "\n",
        "# Calculate the evaluation metrics\n",
        "score_knn = round(accuracy_score(y_test, y_pred_knn) * 100, 2)\n",
        "precision = round(precision_score(y_test, y_pred_knn) * 100, 2)\n",
        "recall = round(recall_score(y_test, y_pred_knn) * 100, 2)\n",
        "f1 = round(f1_score(y_test, y_pred_knn) * 100, 2)\n",
        "\n",
        "# Print the results\n",
        "print(\"K-Nearest Neighbors Classifier Performance:\")\n",
        "print(\"Accuracy: {0}%\".format(score_knn))\n",
        "print(\"Precision: {0}%\".format(precision))\n",
        "print(\"Recall: {0}%\".format(recall))\n",
        "print(\"F1-score: {0}%\".format(f1))"
      ],
      "metadata": {
        "id": "iX5jmACGgFC8",
        "colab": {
          "base_uri": "https://localhost:8080/"
        },
        "outputId": "c2f1fd82-bee1-45e5-af67-4bbba9561295"
      },
      "execution_count": 235,
      "outputs": [
        {
          "output_type": "stream",
          "name": "stdout",
          "text": [
            "K-Nearest Neighbors Classifier Performance:\n",
            "Accuracy: 69.61%\n",
            "Precision: 72.28%\n",
            "Recall: 73.0%\n",
            "F1-score: 72.64%\n"
          ]
        }
      ]
    },
    {
      "cell_type": "markdown",
      "source": [
        "### Decision Tree"
      ],
      "metadata": {
        "id": "xcuZBD_GgvJ0"
      }
    },
    {
      "cell_type": "code",
      "source": [
        "from sklearn.tree import DecisionTreeClassifier\n",
        "from sklearn.metrics import accuracy_score, precision_score, recall_score, f1_score\n",
        "\n",
        "max_accuracy = 0\n",
        "for x in range(20):\n",
        "    dt = DecisionTreeClassifier(random_state=x)\n",
        "    dt.fit(x_train_pca, y_train)\n",
        "    y_pred_dt = dt.predict(x_test_pca)\n",
        "    current_accuracy = round(accuracy_score(y_test, y_pred_dt) * 100, 2)\n",
        "    if current_accuracy > max_accuracy:\n",
        "        max_accuracy = current_accuracy\n",
        "        best_x = x\n",
        "\n",
        "dt = DecisionTreeClassifier(random_state=best_x)\n",
        "dt.fit(x_train_pca, y_train)\n",
        "y_pred_dt = dt.predict(x_test_pca)\n",
        "\n",
        "# Calculate the evaluation metrics\n",
        "score_dt = round(accuracy_score(y_test, y_pred_dt) * 100, 2)\n",
        "precision = round(precision_score(y_test, y_pred_dt) * 100, 2)\n",
        "recall = round(recall_score(y_test, y_pred_dt) * 100, 2)\n",
        "f1 = round(f1_score(y_test, y_pred_dt) * 100, 2)\n",
        "\n",
        "# Print the results\n",
        "print(\"Decision Tree Classifier Performance:\")\n",
        "print(\"Accuracy: {0}%\".format(score_dt))\n",
        "print(\"Precision: {0}%\".format(precision))\n",
        "print(\"Recall: {0}%\".format(recall))\n",
        "print(\"F1-score: {0}%\".format(f1))"
      ],
      "metadata": {
        "id": "W31JVRLJgzMU",
        "colab": {
          "base_uri": "https://localhost:8080/"
        },
        "outputId": "7991e23d-85da-4b04-998b-a5b442f9ae75"
      },
      "execution_count": 236,
      "outputs": [
        {
          "output_type": "stream",
          "name": "stdout",
          "text": [
            "Decision Tree Classifier Performance:\n",
            "Accuracy: 80.11%\n",
            "Precision: 82.0%\n",
            "Recall: 82.0%\n",
            "F1-score: 82.0%\n"
          ]
        }
      ]
    },
    {
      "cell_type": "markdown",
      "source": [
        "### Naive Bayes"
      ],
      "metadata": {
        "id": "YAkTQBe3gziG"
      }
    },
    {
      "cell_type": "code",
      "source": [
        "from sklearn.naive_bayes import GaussianNB\n",
        "from sklearn.metrics import accuracy_score, precision_score, recall_score, f1_score\n",
        "\n",
        "max_accuracy = 0\n",
        "for x in range(20):\n",
        "    nb = GaussianNB()\n",
        "    nb.fit(x_train_pca, y_train)\n",
        "    y_pred_nb = nb.predict(x_test_pca)\n",
        "    current_accuracy = round(accuracy_score(y_test, y_pred_nb) * 100, 2)\n",
        "    if current_accuracy > max_accuracy:\n",
        "        max_accuracy = current_accuracy\n",
        "        best_x = x\n",
        "\n",
        "nb = GaussianNB()\n",
        "nb.fit(x_train_pca, y_train)\n",
        "y_pred_nb = nb.predict(x_test_pca)\n",
        "\n",
        "# Calculate the evaluation metrics\n",
        "score_nb = round(accuracy_score(y_test, y_pred_nb) * 100, 2)\n",
        "precision = round(precision_score(y_test, y_pred_nb) * 100, 2)\n",
        "recall = round(recall_score(y_test, y_pred_nb) * 100, 2)\n",
        "f1 = round(f1_score(y_test, y_pred_nb) * 100, 2)\n",
        "\n",
        "# Print the results\n",
        "print(\"Naive Bayes Classifier Performance:\")\n",
        "print(\"Accuracy: {0}%\".format(score_nb))\n",
        "print(\"Precision: {0}%\".format(precision))\n",
        "print(\"Recall: {0}%\".format(recall))\n",
        "print(\"F1-score: {0}%\".format(f1))"
      ],
      "metadata": {
        "id": "MXGL4DOvg6c0",
        "colab": {
          "base_uri": "https://localhost:8080/"
        },
        "outputId": "aac429f2-4ce2-404e-e467-5b5d330cadca"
      },
      "execution_count": 237,
      "outputs": [
        {
          "output_type": "stream",
          "name": "stdout",
          "text": [
            "Naive Bayes Classifier Performance:\n",
            "Accuracy: 85.08%\n",
            "Precision: 86.87%\n",
            "Recall: 86.0%\n",
            "F1-score: 86.43%\n"
          ]
        }
      ]
    },
    {
      "cell_type": "markdown",
      "source": [
        "### XBBoost"
      ],
      "metadata": {
        "id": "eqP0sGTnhEXL"
      }
    },
    {
      "cell_type": "code",
      "source": [
        "from xgboost import XGBClassifier\n",
        "from sklearn.metrics import accuracy_score, precision_score, recall_score, f1_score\n",
        "\n",
        "max_accuracy = 0\n",
        "for x in range(20):\n",
        "    xgb = XGBClassifier(random_state=x)\n",
        "    xgb.fit(x_train_pca, y_train)\n",
        "    y_pred_xgb = xgb.predict(x_test_pca)\n",
        "    current_accuracy = round(accuracy_score(y_test, y_pred_xgb) * 100, 2)\n",
        "    if current_accuracy > max_accuracy:\n",
        "        max_accuracy = current_accuracy\n",
        "        best_x = x\n",
        "\n",
        "xgb = XGBClassifier(random_state=best_x)\n",
        "xgb.fit(x_train_pca, y_train)\n",
        "y_pred_xgb = xgb.predict(x_test_pca)\n",
        "\n",
        "# Calculate the evaluation metrics\n",
        "score_xgb = round(accuracy_score(y_test, y_pred_xgb) * 100, 2)\n",
        "precision = round(precision_score(y_test, y_pred_xgb) * 100, 2)\n",
        "recall = round(recall_score(y_test, y_pred_xgb) * 100, 2)\n",
        "f1 = round(f1_score(y_test, y_pred_xgb) * 100, 2)\n",
        "\n",
        "# Print the results\n",
        "print(\"XGBoost Classifier Performance:\")\n",
        "print(\"Accuracy: {0}%\".format(score_xgb))\n",
        "print(\"Precision: {0}%\".format(precision))\n",
        "print(\"Recall: {0}%\".format(recall))\n",
        "print(\"F1-score: {0}%\".format(f1))"
      ],
      "metadata": {
        "id": "oYnMu51uhHQH",
        "colab": {
          "base_uri": "https://localhost:8080/"
        },
        "outputId": "a98a3a8f-7e79-4cab-85aa-e63a99591863"
      },
      "execution_count": 238,
      "outputs": [
        {
          "output_type": "stream",
          "name": "stdout",
          "text": [
            "XGBoost Classifier Performance:\n",
            "Accuracy: 87.85%\n",
            "Precision: 89.8%\n",
            "Recall: 88.0%\n",
            "F1-score: 88.89%\n"
          ]
        }
      ]
    },
    {
      "cell_type": "markdown",
      "source": [
        "### Neural Network"
      ],
      "metadata": {
        "id": "9hPjZkw4hHjj"
      }
    },
    {
      "cell_type": "code",
      "source": [
        "from keras.models import Sequential\n",
        "from keras.layers import Dense\n",
        "from sklearn.neural_network import MLPClassifier\n",
        "from sklearn.metrics import accuracy_score, precision_score, recall_score, f1_score\n",
        "import numpy as np\n",
        "\n",
        "# Hyperparameter tuning for Neural Network using MLPClassifier\n",
        "max_accuracy = 0\n",
        "for x in range(20):\n",
        "    nn = MLPClassifier(random_state=x)\n",
        "    nn.fit(x_train_pca, y_train)\n",
        "    y_pred_nn = nn.predict(x_test_pca)\n",
        "    current_accuracy = round(accuracy_score(y_test, y_pred_nn) * 100, 2)\n",
        "    if current_accuracy > max_accuracy:\n",
        "        max_accuracy = current_accuracy\n",
        "        best_x = x\n",
        "\n",
        "# Create and train a Neural Network model using Keras\n",
        "model = Sequential()\n",
        "model.add(Dense(16, activation='relu', input_dim=x_train_pca.shape[1]))\n",
        "model.add(Dense(8, activation='relu'))\n",
        "model.add(Dense(1, activation='sigmoid'))\n",
        "model.compile(loss='binary_crossentropy', optimizer='adam', metrics=['accuracy'])\n",
        "model.fit(x_train_pca, y_train, epochs=200, batch_size=32, validation_data=(x_test_pca, y_test))\n",
        "\n",
        "# Make predictions on the test set\n",
        "y_pred_nn = model.predict(x_test_pca)\n",
        "y_pred_nn = (y_pred_nn > 0.5).astype(int)\n",
        "\n",
        "# Calculate the evaluation metrics for the Keras Neural Network model\n",
        "score_nn = round(accuracy_score(y_test, y_pred_nn) * 100, 2)\n",
        "precision_nn = round(precision_score(y_test, y_pred_nn) * 100, 2)\n",
        "recall_nn = round(recall_score(y_test, y_pred_nn) * 100, 2)\n",
        "f1_nn = round(f1_score(y_test, y_pred_nn) * 100, 2)\n",
        "\n",
        "# Print the results for the Keras Neural Network model\n",
        "print(\"Neural Network Model Performance:\")\n",
        "print(\"Accuracy: {0}%\".format(score_nn))\n",
        "print(\"Precision: {0}%\".format(precision_nn))\n",
        "print(\"Recall: {0}%\".format(recall_nn))\n",
        "print(\"F1-score: {0}%\".format(f1_nn))"
      ],
      "metadata": {
        "colab": {
          "base_uri": "https://localhost:8080/"
        },
        "id": "LeT4UYXklqH4",
        "outputId": "44bbeda8-8206-4774-9927-b99fc9ce69bf"
      },
      "execution_count": 239,
      "outputs": [
        {
          "output_type": "stream",
          "name": "stdout",
          "text": [
            "Epoch 1/200\n",
            "23/23 [==============================] - 1s 16ms/step - loss: 6.2421 - accuracy: 0.5511 - val_loss: 4.9395 - val_accuracy: 0.5525\n",
            "Epoch 2/200\n",
            "23/23 [==============================] - 0s 6ms/step - loss: 3.8890 - accuracy: 0.5525 - val_loss: 3.0661 - val_accuracy: 0.5525\n",
            "Epoch 3/200\n",
            "23/23 [==============================] - 0s 5ms/step - loss: 2.2938 - accuracy: 0.5511 - val_loss: 1.6909 - val_accuracy: 0.5635\n",
            "Epoch 4/200\n",
            "23/23 [==============================] - 0s 5ms/step - loss: 1.2025 - accuracy: 0.5870 - val_loss: 0.8927 - val_accuracy: 0.6022\n",
            "Epoch 5/200\n",
            "23/23 [==============================] - 0s 5ms/step - loss: 0.7791 - accuracy: 0.6257 - val_loss: 0.7257 - val_accuracy: 0.6133\n",
            "Epoch 6/200\n",
            "23/23 [==============================] - 0s 5ms/step - loss: 0.6698 - accuracy: 0.6713 - val_loss: 0.6600 - val_accuracy: 0.6354\n",
            "Epoch 7/200\n",
            "23/23 [==============================] - 0s 5ms/step - loss: 0.6334 - accuracy: 0.6920 - val_loss: 0.6375 - val_accuracy: 0.6298\n",
            "Epoch 8/200\n",
            "23/23 [==============================] - 0s 5ms/step - loss: 0.6108 - accuracy: 0.7099 - val_loss: 0.6237 - val_accuracy: 0.6519\n",
            "Epoch 9/200\n",
            "23/23 [==============================] - 0s 5ms/step - loss: 0.5967 - accuracy: 0.6948 - val_loss: 0.6187 - val_accuracy: 0.6464\n",
            "Epoch 10/200\n",
            "23/23 [==============================] - 0s 6ms/step - loss: 0.5845 - accuracy: 0.7113 - val_loss: 0.6089 - val_accuracy: 0.6685\n",
            "Epoch 11/200\n",
            "23/23 [==============================] - 0s 5ms/step - loss: 0.5747 - accuracy: 0.7182 - val_loss: 0.6069 - val_accuracy: 0.6685\n",
            "Epoch 12/200\n",
            "23/23 [==============================] - 0s 6ms/step - loss: 0.5673 - accuracy: 0.7265 - val_loss: 0.6001 - val_accuracy: 0.7017\n",
            "Epoch 13/200\n",
            "23/23 [==============================] - 0s 6ms/step - loss: 0.5601 - accuracy: 0.7334 - val_loss: 0.5955 - val_accuracy: 0.6796\n",
            "Epoch 14/200\n",
            "23/23 [==============================] - 0s 6ms/step - loss: 0.5539 - accuracy: 0.7376 - val_loss: 0.5905 - val_accuracy: 0.7293\n",
            "Epoch 15/200\n",
            "23/23 [==============================] - 0s 5ms/step - loss: 0.5469 - accuracy: 0.7431 - val_loss: 0.5898 - val_accuracy: 0.7238\n",
            "Epoch 16/200\n",
            "23/23 [==============================] - 0s 6ms/step - loss: 0.5429 - accuracy: 0.7472 - val_loss: 0.5839 - val_accuracy: 0.7293\n",
            "Epoch 17/200\n",
            "23/23 [==============================] - 0s 6ms/step - loss: 0.5363 - accuracy: 0.7472 - val_loss: 0.5837 - val_accuracy: 0.7293\n",
            "Epoch 18/200\n",
            "23/23 [==============================] - 0s 6ms/step - loss: 0.5332 - accuracy: 0.7514 - val_loss: 0.5809 - val_accuracy: 0.7348\n",
            "Epoch 19/200\n",
            "23/23 [==============================] - 0s 4ms/step - loss: 0.5254 - accuracy: 0.7610 - val_loss: 0.5760 - val_accuracy: 0.7348\n",
            "Epoch 20/200\n",
            "23/23 [==============================] - 0s 4ms/step - loss: 0.5279 - accuracy: 0.7500 - val_loss: 0.5791 - val_accuracy: 0.7514\n",
            "Epoch 21/200\n",
            "23/23 [==============================] - 0s 4ms/step - loss: 0.5253 - accuracy: 0.7624 - val_loss: 0.5712 - val_accuracy: 0.7459\n",
            "Epoch 22/200\n",
            "23/23 [==============================] - 0s 4ms/step - loss: 0.5217 - accuracy: 0.7583 - val_loss: 0.5705 - val_accuracy: 0.7238\n",
            "Epoch 23/200\n",
            "23/23 [==============================] - 0s 3ms/step - loss: 0.5113 - accuracy: 0.7666 - val_loss: 0.5633 - val_accuracy: 0.7403\n",
            "Epoch 24/200\n",
            "23/23 [==============================] - 0s 4ms/step - loss: 0.5035 - accuracy: 0.7776 - val_loss: 0.5608 - val_accuracy: 0.7403\n",
            "Epoch 25/200\n",
            "23/23 [==============================] - 0s 3ms/step - loss: 0.4995 - accuracy: 0.7790 - val_loss: 0.5559 - val_accuracy: 0.7403\n",
            "Epoch 26/200\n",
            "23/23 [==============================] - 0s 4ms/step - loss: 0.4947 - accuracy: 0.7790 - val_loss: 0.5549 - val_accuracy: 0.7459\n",
            "Epoch 27/200\n",
            "23/23 [==============================] - 0s 4ms/step - loss: 0.4912 - accuracy: 0.7776 - val_loss: 0.5491 - val_accuracy: 0.7403\n",
            "Epoch 28/200\n",
            "23/23 [==============================] - 0s 7ms/step - loss: 0.4867 - accuracy: 0.7790 - val_loss: 0.5475 - val_accuracy: 0.7403\n",
            "Epoch 29/200\n",
            "23/23 [==============================] - 0s 6ms/step - loss: 0.4854 - accuracy: 0.7818 - val_loss: 0.5431 - val_accuracy: 0.7459\n",
            "Epoch 30/200\n",
            "23/23 [==============================] - 0s 6ms/step - loss: 0.4807 - accuracy: 0.7887 - val_loss: 0.5433 - val_accuracy: 0.7514\n",
            "Epoch 31/200\n",
            "23/23 [==============================] - 0s 6ms/step - loss: 0.4773 - accuracy: 0.7873 - val_loss: 0.5437 - val_accuracy: 0.7348\n",
            "Epoch 32/200\n",
            "23/23 [==============================] - 0s 5ms/step - loss: 0.4724 - accuracy: 0.7942 - val_loss: 0.5396 - val_accuracy: 0.7348\n",
            "Epoch 33/200\n",
            "23/23 [==============================] - 0s 5ms/step - loss: 0.4676 - accuracy: 0.7928 - val_loss: 0.5366 - val_accuracy: 0.7514\n",
            "Epoch 34/200\n",
            "23/23 [==============================] - 0s 5ms/step - loss: 0.4647 - accuracy: 0.7914 - val_loss: 0.5308 - val_accuracy: 0.7514\n",
            "Epoch 35/200\n",
            "23/23 [==============================] - 0s 6ms/step - loss: 0.4585 - accuracy: 0.7983 - val_loss: 0.5305 - val_accuracy: 0.7569\n",
            "Epoch 36/200\n",
            "23/23 [==============================] - 0s 6ms/step - loss: 0.4607 - accuracy: 0.7997 - val_loss: 0.5292 - val_accuracy: 0.7680\n",
            "Epoch 37/200\n",
            "23/23 [==============================] - 0s 5ms/step - loss: 0.4550 - accuracy: 0.8011 - val_loss: 0.5236 - val_accuracy: 0.7680\n",
            "Epoch 38/200\n",
            "23/23 [==============================] - 0s 5ms/step - loss: 0.4506 - accuracy: 0.8025 - val_loss: 0.5187 - val_accuracy: 0.7735\n",
            "Epoch 39/200\n",
            "23/23 [==============================] - 0s 5ms/step - loss: 0.4473 - accuracy: 0.8094 - val_loss: 0.5132 - val_accuracy: 0.7790\n",
            "Epoch 40/200\n",
            "23/23 [==============================] - 0s 6ms/step - loss: 0.4436 - accuracy: 0.8094 - val_loss: 0.5176 - val_accuracy: 0.7735\n",
            "Epoch 41/200\n",
            "23/23 [==============================] - 0s 6ms/step - loss: 0.4450 - accuracy: 0.8025 - val_loss: 0.5154 - val_accuracy: 0.7680\n",
            "Epoch 42/200\n",
            "23/23 [==============================] - 0s 6ms/step - loss: 0.4384 - accuracy: 0.8122 - val_loss: 0.5025 - val_accuracy: 0.7845\n",
            "Epoch 43/200\n",
            "23/23 [==============================] - 0s 5ms/step - loss: 0.4313 - accuracy: 0.8122 - val_loss: 0.4991 - val_accuracy: 0.7845\n",
            "Epoch 44/200\n",
            "23/23 [==============================] - 0s 6ms/step - loss: 0.4326 - accuracy: 0.8177 - val_loss: 0.4948 - val_accuracy: 0.7790\n",
            "Epoch 45/200\n",
            "23/23 [==============================] - 0s 6ms/step - loss: 0.4263 - accuracy: 0.8108 - val_loss: 0.4869 - val_accuracy: 0.7790\n",
            "Epoch 46/200\n",
            "23/23 [==============================] - 0s 6ms/step - loss: 0.4225 - accuracy: 0.8094 - val_loss: 0.4876 - val_accuracy: 0.7845\n",
            "Epoch 47/200\n",
            "23/23 [==============================] - 0s 6ms/step - loss: 0.4218 - accuracy: 0.8177 - val_loss: 0.4803 - val_accuracy: 0.7845\n",
            "Epoch 48/200\n",
            "23/23 [==============================] - 0s 4ms/step - loss: 0.4153 - accuracy: 0.8149 - val_loss: 0.4778 - val_accuracy: 0.7845\n",
            "Epoch 49/200\n",
            "23/23 [==============================] - 0s 4ms/step - loss: 0.4129 - accuracy: 0.8191 - val_loss: 0.4745 - val_accuracy: 0.7845\n",
            "Epoch 50/200\n",
            "23/23 [==============================] - 0s 3ms/step - loss: 0.4175 - accuracy: 0.8135 - val_loss: 0.4728 - val_accuracy: 0.7845\n",
            "Epoch 51/200\n",
            "23/23 [==============================] - 0s 3ms/step - loss: 0.4105 - accuracy: 0.8260 - val_loss: 0.4731 - val_accuracy: 0.7956\n",
            "Epoch 52/200\n",
            "23/23 [==============================] - 0s 3ms/step - loss: 0.4031 - accuracy: 0.8246 - val_loss: 0.4635 - val_accuracy: 0.7901\n",
            "Epoch 53/200\n",
            "23/23 [==============================] - 0s 5ms/step - loss: 0.4017 - accuracy: 0.8246 - val_loss: 0.4621 - val_accuracy: 0.7956\n",
            "Epoch 54/200\n",
            "23/23 [==============================] - 0s 4ms/step - loss: 0.4008 - accuracy: 0.8273 - val_loss: 0.4748 - val_accuracy: 0.7956\n",
            "Epoch 55/200\n",
            "23/23 [==============================] - 0s 3ms/step - loss: 0.4027 - accuracy: 0.8273 - val_loss: 0.4701 - val_accuracy: 0.8011\n",
            "Epoch 56/200\n",
            "23/23 [==============================] - 0s 4ms/step - loss: 0.3908 - accuracy: 0.8301 - val_loss: 0.4632 - val_accuracy: 0.8177\n",
            "Epoch 57/200\n",
            "23/23 [==============================] - 0s 3ms/step - loss: 0.3911 - accuracy: 0.8232 - val_loss: 0.4571 - val_accuracy: 0.8011\n",
            "Epoch 58/200\n",
            "23/23 [==============================] - 0s 4ms/step - loss: 0.3891 - accuracy: 0.8260 - val_loss: 0.4513 - val_accuracy: 0.8122\n",
            "Epoch 59/200\n",
            "23/23 [==============================] - 0s 3ms/step - loss: 0.3879 - accuracy: 0.8260 - val_loss: 0.4562 - val_accuracy: 0.8232\n",
            "Epoch 60/200\n",
            "23/23 [==============================] - 0s 4ms/step - loss: 0.3852 - accuracy: 0.8356 - val_loss: 0.4498 - val_accuracy: 0.8232\n",
            "Epoch 61/200\n",
            "23/23 [==============================] - 0s 4ms/step - loss: 0.3804 - accuracy: 0.8384 - val_loss: 0.4448 - val_accuracy: 0.8122\n",
            "Epoch 62/200\n",
            "23/23 [==============================] - 0s 4ms/step - loss: 0.3787 - accuracy: 0.8343 - val_loss: 0.4471 - val_accuracy: 0.8177\n",
            "Epoch 63/200\n",
            "23/23 [==============================] - 0s 4ms/step - loss: 0.3746 - accuracy: 0.8370 - val_loss: 0.4453 - val_accuracy: 0.8177\n",
            "Epoch 64/200\n",
            "23/23 [==============================] - 0s 5ms/step - loss: 0.3758 - accuracy: 0.8398 - val_loss: 0.4443 - val_accuracy: 0.8232\n",
            "Epoch 65/200\n",
            "23/23 [==============================] - 0s 4ms/step - loss: 0.3724 - accuracy: 0.8370 - val_loss: 0.4424 - val_accuracy: 0.8177\n",
            "Epoch 66/200\n",
            "23/23 [==============================] - 0s 3ms/step - loss: 0.3702 - accuracy: 0.8301 - val_loss: 0.4402 - val_accuracy: 0.8232\n",
            "Epoch 67/200\n",
            "23/23 [==============================] - 0s 4ms/step - loss: 0.3704 - accuracy: 0.8425 - val_loss: 0.4428 - val_accuracy: 0.8232\n",
            "Epoch 68/200\n",
            "23/23 [==============================] - 0s 4ms/step - loss: 0.3658 - accuracy: 0.8453 - val_loss: 0.4433 - val_accuracy: 0.8343\n",
            "Epoch 69/200\n",
            "23/23 [==============================] - 0s 4ms/step - loss: 0.3648 - accuracy: 0.8453 - val_loss: 0.4356 - val_accuracy: 0.8287\n",
            "Epoch 70/200\n",
            "23/23 [==============================] - 0s 4ms/step - loss: 0.3621 - accuracy: 0.8494 - val_loss: 0.4358 - val_accuracy: 0.8232\n",
            "Epoch 71/200\n",
            "23/23 [==============================] - 0s 4ms/step - loss: 0.3607 - accuracy: 0.8481 - val_loss: 0.4445 - val_accuracy: 0.8398\n",
            "Epoch 72/200\n",
            "23/23 [==============================] - 0s 3ms/step - loss: 0.3625 - accuracy: 0.8508 - val_loss: 0.4372 - val_accuracy: 0.8232\n",
            "Epoch 73/200\n",
            "23/23 [==============================] - 0s 4ms/step - loss: 0.3672 - accuracy: 0.8467 - val_loss: 0.4372 - val_accuracy: 0.8343\n",
            "Epoch 74/200\n",
            "23/23 [==============================] - 0s 4ms/step - loss: 0.3658 - accuracy: 0.8453 - val_loss: 0.4555 - val_accuracy: 0.8287\n",
            "Epoch 75/200\n",
            "23/23 [==============================] - 0s 4ms/step - loss: 0.3591 - accuracy: 0.8453 - val_loss: 0.4342 - val_accuracy: 0.8287\n",
            "Epoch 76/200\n",
            "23/23 [==============================] - 0s 3ms/step - loss: 0.3561 - accuracy: 0.8412 - val_loss: 0.4320 - val_accuracy: 0.8287\n",
            "Epoch 77/200\n",
            "23/23 [==============================] - 0s 4ms/step - loss: 0.3511 - accuracy: 0.8522 - val_loss: 0.4366 - val_accuracy: 0.8398\n",
            "Epoch 78/200\n",
            "23/23 [==============================] - 0s 3ms/step - loss: 0.3504 - accuracy: 0.8494 - val_loss: 0.4390 - val_accuracy: 0.8287\n",
            "Epoch 79/200\n",
            "23/23 [==============================] - 0s 4ms/step - loss: 0.3525 - accuracy: 0.8508 - val_loss: 0.4269 - val_accuracy: 0.8508\n",
            "Epoch 80/200\n",
            "23/23 [==============================] - 0s 4ms/step - loss: 0.3482 - accuracy: 0.8481 - val_loss: 0.4356 - val_accuracy: 0.8398\n",
            "Epoch 81/200\n",
            "23/23 [==============================] - 0s 4ms/step - loss: 0.3466 - accuracy: 0.8577 - val_loss: 0.4310 - val_accuracy: 0.8343\n",
            "Epoch 82/200\n",
            "23/23 [==============================] - 0s 4ms/step - loss: 0.3460 - accuracy: 0.8564 - val_loss: 0.4376 - val_accuracy: 0.8343\n",
            "Epoch 83/200\n",
            "23/23 [==============================] - 0s 3ms/step - loss: 0.3446 - accuracy: 0.8522 - val_loss: 0.4391 - val_accuracy: 0.8453\n",
            "Epoch 84/200\n",
            "23/23 [==============================] - 0s 4ms/step - loss: 0.3469 - accuracy: 0.8494 - val_loss: 0.4390 - val_accuracy: 0.8343\n",
            "Epoch 85/200\n",
            "23/23 [==============================] - 0s 5ms/step - loss: 0.3449 - accuracy: 0.8494 - val_loss: 0.4326 - val_accuracy: 0.8398\n",
            "Epoch 86/200\n",
            "23/23 [==============================] - 0s 3ms/step - loss: 0.3408 - accuracy: 0.8564 - val_loss: 0.4357 - val_accuracy: 0.8453\n",
            "Epoch 87/200\n",
            "23/23 [==============================] - 0s 3ms/step - loss: 0.3416 - accuracy: 0.8494 - val_loss: 0.4472 - val_accuracy: 0.8343\n",
            "Epoch 88/200\n",
            "23/23 [==============================] - 0s 4ms/step - loss: 0.3453 - accuracy: 0.8522 - val_loss: 0.4368 - val_accuracy: 0.8343\n",
            "Epoch 89/200\n",
            "23/23 [==============================] - 0s 4ms/step - loss: 0.3396 - accuracy: 0.8564 - val_loss: 0.4393 - val_accuracy: 0.8343\n",
            "Epoch 90/200\n",
            "23/23 [==============================] - 0s 3ms/step - loss: 0.3378 - accuracy: 0.8564 - val_loss: 0.4301 - val_accuracy: 0.8564\n",
            "Epoch 91/200\n",
            "23/23 [==============================] - 0s 4ms/step - loss: 0.3354 - accuracy: 0.8536 - val_loss: 0.4396 - val_accuracy: 0.8398\n",
            "Epoch 92/200\n",
            "23/23 [==============================] - 0s 3ms/step - loss: 0.3359 - accuracy: 0.8577 - val_loss: 0.4365 - val_accuracy: 0.8619\n",
            "Epoch 93/200\n",
            "23/23 [==============================] - 0s 4ms/step - loss: 0.3367 - accuracy: 0.8605 - val_loss: 0.4295 - val_accuracy: 0.8564\n",
            "Epoch 94/200\n",
            "23/23 [==============================] - 0s 4ms/step - loss: 0.3346 - accuracy: 0.8591 - val_loss: 0.4443 - val_accuracy: 0.8508\n",
            "Epoch 95/200\n",
            "23/23 [==============================] - 0s 4ms/step - loss: 0.3343 - accuracy: 0.8605 - val_loss: 0.4341 - val_accuracy: 0.8508\n",
            "Epoch 96/200\n",
            "23/23 [==============================] - 0s 4ms/step - loss: 0.3371 - accuracy: 0.8619 - val_loss: 0.4559 - val_accuracy: 0.8508\n",
            "Epoch 97/200\n",
            "23/23 [==============================] - 0s 3ms/step - loss: 0.3375 - accuracy: 0.8536 - val_loss: 0.4461 - val_accuracy: 0.8508\n",
            "Epoch 98/200\n",
            "23/23 [==============================] - 0s 4ms/step - loss: 0.3337 - accuracy: 0.8508 - val_loss: 0.4372 - val_accuracy: 0.8453\n",
            "Epoch 99/200\n",
            "23/23 [==============================] - 0s 5ms/step - loss: 0.3332 - accuracy: 0.8633 - val_loss: 0.4320 - val_accuracy: 0.8564\n",
            "Epoch 100/200\n",
            "23/23 [==============================] - 0s 4ms/step - loss: 0.3312 - accuracy: 0.8619 - val_loss: 0.4490 - val_accuracy: 0.8453\n",
            "Epoch 101/200\n",
            "23/23 [==============================] - 0s 4ms/step - loss: 0.3298 - accuracy: 0.8605 - val_loss: 0.4411 - val_accuracy: 0.8453\n",
            "Epoch 102/200\n",
            "23/23 [==============================] - 0s 4ms/step - loss: 0.3290 - accuracy: 0.8591 - val_loss: 0.4420 - val_accuracy: 0.8453\n",
            "Epoch 103/200\n",
            "23/23 [==============================] - 0s 4ms/step - loss: 0.3293 - accuracy: 0.8564 - val_loss: 0.4445 - val_accuracy: 0.8508\n",
            "Epoch 104/200\n",
            "23/23 [==============================] - 0s 4ms/step - loss: 0.3256 - accuracy: 0.8591 - val_loss: 0.4399 - val_accuracy: 0.8453\n",
            "Epoch 105/200\n",
            "23/23 [==============================] - 0s 4ms/step - loss: 0.3252 - accuracy: 0.8591 - val_loss: 0.4483 - val_accuracy: 0.8453\n",
            "Epoch 106/200\n",
            "23/23 [==============================] - 0s 4ms/step - loss: 0.3272 - accuracy: 0.8633 - val_loss: 0.4420 - val_accuracy: 0.8564\n",
            "Epoch 107/200\n",
            "23/23 [==============================] - 0s 4ms/step - loss: 0.3252 - accuracy: 0.8633 - val_loss: 0.4355 - val_accuracy: 0.8508\n",
            "Epoch 108/200\n",
            "23/23 [==============================] - 0s 4ms/step - loss: 0.3239 - accuracy: 0.8646 - val_loss: 0.4522 - val_accuracy: 0.8508\n",
            "Epoch 109/200\n",
            "23/23 [==============================] - 0s 4ms/step - loss: 0.3231 - accuracy: 0.8605 - val_loss: 0.4410 - val_accuracy: 0.8453\n",
            "Epoch 110/200\n",
            "23/23 [==============================] - 0s 4ms/step - loss: 0.3218 - accuracy: 0.8660 - val_loss: 0.4428 - val_accuracy: 0.8453\n",
            "Epoch 111/200\n",
            "23/23 [==============================] - 0s 4ms/step - loss: 0.3210 - accuracy: 0.8646 - val_loss: 0.4409 - val_accuracy: 0.8453\n",
            "Epoch 112/200\n",
            "23/23 [==============================] - 0s 4ms/step - loss: 0.3201 - accuracy: 0.8743 - val_loss: 0.4382 - val_accuracy: 0.8453\n",
            "Epoch 113/200\n",
            "23/23 [==============================] - 0s 5ms/step - loss: 0.3251 - accuracy: 0.8591 - val_loss: 0.4537 - val_accuracy: 0.8453\n",
            "Epoch 114/200\n",
            "23/23 [==============================] - 0s 4ms/step - loss: 0.3243 - accuracy: 0.8591 - val_loss: 0.4388 - val_accuracy: 0.8508\n",
            "Epoch 115/200\n",
            "23/23 [==============================] - 0s 4ms/step - loss: 0.3241 - accuracy: 0.8619 - val_loss: 0.4534 - val_accuracy: 0.8453\n",
            "Epoch 116/200\n",
            "23/23 [==============================] - 0s 4ms/step - loss: 0.3240 - accuracy: 0.8660 - val_loss: 0.4584 - val_accuracy: 0.8343\n",
            "Epoch 117/200\n",
            "23/23 [==============================] - 0s 5ms/step - loss: 0.3210 - accuracy: 0.8757 - val_loss: 0.4430 - val_accuracy: 0.8398\n",
            "Epoch 118/200\n",
            "23/23 [==============================] - 0s 4ms/step - loss: 0.3221 - accuracy: 0.8619 - val_loss: 0.4457 - val_accuracy: 0.8398\n",
            "Epoch 119/200\n",
            "23/23 [==============================] - 0s 4ms/step - loss: 0.3138 - accuracy: 0.8729 - val_loss: 0.4384 - val_accuracy: 0.8398\n",
            "Epoch 120/200\n",
            "23/23 [==============================] - 0s 4ms/step - loss: 0.3157 - accuracy: 0.8688 - val_loss: 0.4484 - val_accuracy: 0.8398\n",
            "Epoch 121/200\n",
            "23/23 [==============================] - 0s 4ms/step - loss: 0.3139 - accuracy: 0.8688 - val_loss: 0.4457 - val_accuracy: 0.8398\n",
            "Epoch 122/200\n",
            "23/23 [==============================] - 0s 4ms/step - loss: 0.3140 - accuracy: 0.8702 - val_loss: 0.4450 - val_accuracy: 0.8453\n",
            "Epoch 123/200\n",
            "23/23 [==============================] - 0s 4ms/step - loss: 0.3158 - accuracy: 0.8715 - val_loss: 0.4632 - val_accuracy: 0.8398\n",
            "Epoch 124/200\n",
            "23/23 [==============================] - 0s 4ms/step - loss: 0.3174 - accuracy: 0.8702 - val_loss: 0.4574 - val_accuracy: 0.8508\n",
            "Epoch 125/200\n",
            "23/23 [==============================] - 0s 4ms/step - loss: 0.3155 - accuracy: 0.8674 - val_loss: 0.4514 - val_accuracy: 0.8343\n",
            "Epoch 126/200\n",
            "23/23 [==============================] - 0s 3ms/step - loss: 0.3130 - accuracy: 0.8702 - val_loss: 0.4431 - val_accuracy: 0.8453\n",
            "Epoch 127/200\n",
            "23/23 [==============================] - 0s 5ms/step - loss: 0.3104 - accuracy: 0.8688 - val_loss: 0.4472 - val_accuracy: 0.8453\n",
            "Epoch 128/200\n",
            "23/23 [==============================] - 0s 5ms/step - loss: 0.3100 - accuracy: 0.8646 - val_loss: 0.4483 - val_accuracy: 0.8453\n",
            "Epoch 129/200\n",
            "23/23 [==============================] - 0s 4ms/step - loss: 0.3128 - accuracy: 0.8715 - val_loss: 0.4456 - val_accuracy: 0.8508\n",
            "Epoch 130/200\n",
            "23/23 [==============================] - 0s 4ms/step - loss: 0.3176 - accuracy: 0.8757 - val_loss: 0.4527 - val_accuracy: 0.8453\n",
            "Epoch 131/200\n",
            "23/23 [==============================] - 0s 4ms/step - loss: 0.3096 - accuracy: 0.8729 - val_loss: 0.4543 - val_accuracy: 0.8398\n",
            "Epoch 132/200\n",
            "23/23 [==============================] - 0s 4ms/step - loss: 0.3082 - accuracy: 0.8729 - val_loss: 0.4547 - val_accuracy: 0.8453\n",
            "Epoch 133/200\n",
            "23/23 [==============================] - 0s 4ms/step - loss: 0.3108 - accuracy: 0.8785 - val_loss: 0.4576 - val_accuracy: 0.8343\n",
            "Epoch 134/200\n",
            "23/23 [==============================] - 0s 4ms/step - loss: 0.3137 - accuracy: 0.8688 - val_loss: 0.4387 - val_accuracy: 0.8508\n",
            "Epoch 135/200\n",
            "23/23 [==============================] - 0s 4ms/step - loss: 0.3105 - accuracy: 0.8674 - val_loss: 0.4527 - val_accuracy: 0.8453\n",
            "Epoch 136/200\n",
            "23/23 [==============================] - 0s 4ms/step - loss: 0.3055 - accuracy: 0.8771 - val_loss: 0.4518 - val_accuracy: 0.8508\n",
            "Epoch 137/200\n",
            "23/23 [==============================] - 0s 4ms/step - loss: 0.3110 - accuracy: 0.8757 - val_loss: 0.4561 - val_accuracy: 0.8453\n",
            "Epoch 138/200\n",
            "23/23 [==============================] - 0s 5ms/step - loss: 0.3079 - accuracy: 0.8646 - val_loss: 0.4581 - val_accuracy: 0.8564\n",
            "Epoch 139/200\n",
            "23/23 [==============================] - 0s 4ms/step - loss: 0.3090 - accuracy: 0.8771 - val_loss: 0.4568 - val_accuracy: 0.8398\n",
            "Epoch 140/200\n",
            "23/23 [==============================] - 0s 4ms/step - loss: 0.3068 - accuracy: 0.8771 - val_loss: 0.4552 - val_accuracy: 0.8398\n",
            "Epoch 141/200\n",
            "23/23 [==============================] - 0s 4ms/step - loss: 0.3072 - accuracy: 0.8715 - val_loss: 0.4593 - val_accuracy: 0.8508\n",
            "Epoch 142/200\n",
            "23/23 [==============================] - 0s 4ms/step - loss: 0.3049 - accuracy: 0.8840 - val_loss: 0.4550 - val_accuracy: 0.8453\n",
            "Epoch 143/200\n",
            "23/23 [==============================] - 0s 3ms/step - loss: 0.3028 - accuracy: 0.8771 - val_loss: 0.4566 - val_accuracy: 0.8398\n",
            "Epoch 144/200\n",
            "23/23 [==============================] - 0s 3ms/step - loss: 0.3047 - accuracy: 0.8646 - val_loss: 0.4546 - val_accuracy: 0.8453\n",
            "Epoch 145/200\n",
            "23/23 [==============================] - 0s 4ms/step - loss: 0.3094 - accuracy: 0.8771 - val_loss: 0.4892 - val_accuracy: 0.8232\n",
            "Epoch 146/200\n",
            "23/23 [==============================] - 0s 4ms/step - loss: 0.3130 - accuracy: 0.8688 - val_loss: 0.4618 - val_accuracy: 0.8398\n",
            "Epoch 147/200\n",
            "23/23 [==============================] - 0s 4ms/step - loss: 0.3065 - accuracy: 0.8674 - val_loss: 0.4636 - val_accuracy: 0.8343\n",
            "Epoch 148/200\n",
            "23/23 [==============================] - 0s 4ms/step - loss: 0.3007 - accuracy: 0.8798 - val_loss: 0.4593 - val_accuracy: 0.8398\n",
            "Epoch 149/200\n",
            "23/23 [==============================] - 0s 4ms/step - loss: 0.3067 - accuracy: 0.8771 - val_loss: 0.4567 - val_accuracy: 0.8453\n",
            "Epoch 150/200\n",
            "23/23 [==============================] - 0s 4ms/step - loss: 0.3045 - accuracy: 0.8771 - val_loss: 0.4706 - val_accuracy: 0.8398\n",
            "Epoch 151/200\n",
            "23/23 [==============================] - 0s 5ms/step - loss: 0.3047 - accuracy: 0.8757 - val_loss: 0.4728 - val_accuracy: 0.8453\n",
            "Epoch 152/200\n",
            "23/23 [==============================] - 0s 6ms/step - loss: 0.2997 - accuracy: 0.8798 - val_loss: 0.4652 - val_accuracy: 0.8453\n",
            "Epoch 153/200\n",
            "23/23 [==============================] - 0s 5ms/step - loss: 0.2995 - accuracy: 0.8798 - val_loss: 0.4627 - val_accuracy: 0.8343\n",
            "Epoch 154/200\n",
            "23/23 [==============================] - 0s 5ms/step - loss: 0.3051 - accuracy: 0.8702 - val_loss: 0.4849 - val_accuracy: 0.8343\n",
            "Epoch 155/200\n",
            "23/23 [==============================] - 0s 5ms/step - loss: 0.3006 - accuracy: 0.8840 - val_loss: 0.4660 - val_accuracy: 0.8453\n",
            "Epoch 156/200\n",
            "23/23 [==============================] - 0s 6ms/step - loss: 0.2998 - accuracy: 0.8729 - val_loss: 0.4814 - val_accuracy: 0.8398\n",
            "Epoch 157/200\n",
            "23/23 [==============================] - 0s 5ms/step - loss: 0.3011 - accuracy: 0.8729 - val_loss: 0.4672 - val_accuracy: 0.8508\n",
            "Epoch 158/200\n",
            "23/23 [==============================] - 0s 5ms/step - loss: 0.2978 - accuracy: 0.8812 - val_loss: 0.4696 - val_accuracy: 0.8398\n",
            "Epoch 159/200\n",
            "23/23 [==============================] - 0s 6ms/step - loss: 0.2994 - accuracy: 0.8743 - val_loss: 0.4781 - val_accuracy: 0.8343\n",
            "Epoch 160/200\n",
            "23/23 [==============================] - 0s 5ms/step - loss: 0.2980 - accuracy: 0.8854 - val_loss: 0.4829 - val_accuracy: 0.8508\n",
            "Epoch 161/200\n",
            "23/23 [==============================] - 0s 5ms/step - loss: 0.2985 - accuracy: 0.8702 - val_loss: 0.4767 - val_accuracy: 0.8398\n",
            "Epoch 162/200\n",
            "23/23 [==============================] - 0s 5ms/step - loss: 0.2989 - accuracy: 0.8785 - val_loss: 0.4831 - val_accuracy: 0.8287\n",
            "Epoch 163/200\n",
            "23/23 [==============================] - 0s 5ms/step - loss: 0.2944 - accuracy: 0.8895 - val_loss: 0.4711 - val_accuracy: 0.8398\n",
            "Epoch 164/200\n",
            "23/23 [==============================] - 0s 5ms/step - loss: 0.3047 - accuracy: 0.8702 - val_loss: 0.4769 - val_accuracy: 0.8398\n",
            "Epoch 165/200\n",
            "23/23 [==============================] - 0s 6ms/step - loss: 0.2999 - accuracy: 0.8798 - val_loss: 0.4814 - val_accuracy: 0.8398\n",
            "Epoch 166/200\n",
            "23/23 [==============================] - 0s 6ms/step - loss: 0.2995 - accuracy: 0.8715 - val_loss: 0.4890 - val_accuracy: 0.8398\n",
            "Epoch 167/200\n",
            "23/23 [==============================] - 0s 6ms/step - loss: 0.2988 - accuracy: 0.8729 - val_loss: 0.4817 - val_accuracy: 0.8287\n",
            "Epoch 168/200\n",
            "23/23 [==============================] - 0s 6ms/step - loss: 0.2941 - accuracy: 0.8826 - val_loss: 0.4746 - val_accuracy: 0.8398\n",
            "Epoch 169/200\n",
            "23/23 [==============================] - 0s 6ms/step - loss: 0.2929 - accuracy: 0.8757 - val_loss: 0.4899 - val_accuracy: 0.8287\n",
            "Epoch 170/200\n",
            "23/23 [==============================] - 0s 5ms/step - loss: 0.2931 - accuracy: 0.8840 - val_loss: 0.4841 - val_accuracy: 0.8398\n",
            "Epoch 171/200\n",
            "23/23 [==============================] - 0s 6ms/step - loss: 0.2909 - accuracy: 0.8743 - val_loss: 0.4828 - val_accuracy: 0.8343\n",
            "Epoch 172/200\n",
            "23/23 [==============================] - 0s 7ms/step - loss: 0.2912 - accuracy: 0.8840 - val_loss: 0.5033 - val_accuracy: 0.8232\n",
            "Epoch 173/200\n",
            "23/23 [==============================] - 0s 6ms/step - loss: 0.3002 - accuracy: 0.8785 - val_loss: 0.4899 - val_accuracy: 0.8343\n",
            "Epoch 174/200\n",
            "23/23 [==============================] - 0s 4ms/step - loss: 0.2910 - accuracy: 0.8743 - val_loss: 0.4823 - val_accuracy: 0.8398\n",
            "Epoch 175/200\n",
            "23/23 [==============================] - 0s 3ms/step - loss: 0.2998 - accuracy: 0.8798 - val_loss: 0.4748 - val_accuracy: 0.8287\n",
            "Epoch 176/200\n",
            "23/23 [==============================] - 0s 3ms/step - loss: 0.2966 - accuracy: 0.8743 - val_loss: 0.4905 - val_accuracy: 0.8177\n",
            "Epoch 177/200\n",
            "23/23 [==============================] - 0s 3ms/step - loss: 0.2902 - accuracy: 0.8867 - val_loss: 0.4820 - val_accuracy: 0.8398\n",
            "Epoch 178/200\n",
            "23/23 [==============================] - 0s 3ms/step - loss: 0.2901 - accuracy: 0.8840 - val_loss: 0.4905 - val_accuracy: 0.8232\n",
            "Epoch 179/200\n",
            "23/23 [==============================] - 0s 4ms/step - loss: 0.2896 - accuracy: 0.8798 - val_loss: 0.4847 - val_accuracy: 0.8398\n",
            "Epoch 180/200\n",
            "23/23 [==============================] - 0s 4ms/step - loss: 0.2885 - accuracy: 0.8812 - val_loss: 0.4886 - val_accuracy: 0.8398\n",
            "Epoch 181/200\n",
            "23/23 [==============================] - 0s 4ms/step - loss: 0.2938 - accuracy: 0.8798 - val_loss: 0.4990 - val_accuracy: 0.8232\n",
            "Epoch 182/200\n",
            "23/23 [==============================] - 0s 4ms/step - loss: 0.2911 - accuracy: 0.8826 - val_loss: 0.4842 - val_accuracy: 0.8398\n",
            "Epoch 183/200\n",
            "23/23 [==============================] - 0s 4ms/step - loss: 0.2896 - accuracy: 0.8729 - val_loss: 0.4796 - val_accuracy: 0.8287\n",
            "Epoch 184/200\n",
            "23/23 [==============================] - 0s 3ms/step - loss: 0.2891 - accuracy: 0.8757 - val_loss: 0.4836 - val_accuracy: 0.8287\n",
            "Epoch 185/200\n",
            "23/23 [==============================] - 0s 4ms/step - loss: 0.2881 - accuracy: 0.8798 - val_loss: 0.4918 - val_accuracy: 0.8232\n",
            "Epoch 186/200\n",
            "23/23 [==============================] - 0s 3ms/step - loss: 0.2890 - accuracy: 0.8798 - val_loss: 0.4856 - val_accuracy: 0.8343\n",
            "Epoch 187/200\n",
            "23/23 [==============================] - 0s 3ms/step - loss: 0.2864 - accuracy: 0.8771 - val_loss: 0.4961 - val_accuracy: 0.8287\n",
            "Epoch 188/200\n",
            "23/23 [==============================] - 0s 3ms/step - loss: 0.2906 - accuracy: 0.8812 - val_loss: 0.5039 - val_accuracy: 0.8177\n",
            "Epoch 189/200\n",
            "23/23 [==============================] - 0s 4ms/step - loss: 0.2855 - accuracy: 0.8854 - val_loss: 0.4860 - val_accuracy: 0.8453\n",
            "Epoch 190/200\n",
            "23/23 [==============================] - 0s 4ms/step - loss: 0.2855 - accuracy: 0.8867 - val_loss: 0.4885 - val_accuracy: 0.8343\n",
            "Epoch 191/200\n",
            "23/23 [==============================] - 0s 3ms/step - loss: 0.2863 - accuracy: 0.8757 - val_loss: 0.4872 - val_accuracy: 0.8287\n",
            "Epoch 192/200\n",
            "23/23 [==============================] - 0s 4ms/step - loss: 0.2908 - accuracy: 0.8826 - val_loss: 0.4952 - val_accuracy: 0.8343\n",
            "Epoch 193/200\n",
            "23/23 [==============================] - 0s 3ms/step - loss: 0.2834 - accuracy: 0.8812 - val_loss: 0.4903 - val_accuracy: 0.8287\n",
            "Epoch 194/200\n",
            "23/23 [==============================] - 0s 5ms/step - loss: 0.2864 - accuracy: 0.8798 - val_loss: 0.4953 - val_accuracy: 0.8287\n",
            "Epoch 195/200\n",
            "23/23 [==============================] - 0s 4ms/step - loss: 0.2847 - accuracy: 0.8840 - val_loss: 0.4990 - val_accuracy: 0.8177\n",
            "Epoch 196/200\n",
            "23/23 [==============================] - 0s 3ms/step - loss: 0.2880 - accuracy: 0.8798 - val_loss: 0.4970 - val_accuracy: 0.8287\n",
            "Epoch 197/200\n",
            "23/23 [==============================] - 0s 4ms/step - loss: 0.2833 - accuracy: 0.8785 - val_loss: 0.4956 - val_accuracy: 0.8398\n",
            "Epoch 198/200\n",
            "23/23 [==============================] - 0s 4ms/step - loss: 0.2834 - accuracy: 0.8909 - val_loss: 0.4890 - val_accuracy: 0.8287\n",
            "Epoch 199/200\n",
            "23/23 [==============================] - 0s 4ms/step - loss: 0.2826 - accuracy: 0.8812 - val_loss: 0.4917 - val_accuracy: 0.8453\n",
            "Epoch 200/200\n",
            "23/23 [==============================] - 0s 4ms/step - loss: 0.2810 - accuracy: 0.8798 - val_loss: 0.5003 - val_accuracy: 0.8287\n",
            "6/6 [==============================] - 0s 3ms/step\n",
            "Neural Network Model Performance:\n",
            "Accuracy: 82.87%\n",
            "Precision: 88.76%\n",
            "Recall: 79.0%\n",
            "F1-score: 83.6%\n"
          ]
        }
      ]
    },
    {
      "cell_type": "markdown",
      "source": [
        "### Random Forest Classifier"
      ],
      "metadata": {
        "id": "u3OxV6QZOlyR"
      }
    },
    {
      "cell_type": "code",
      "source": [
        "max_accuracy = 0\n",
        "for x in range(20):\n",
        "    rf = RandomForestClassifier(random_state=x)\n",
        "    rf.fit(x_train_pca, y_train)\n",
        "    y_pred_rf = rf.predict(x_test_pca)\n",
        "    current_accuracy = round(accuracy_score(y_test, y_pred_rf) * 100, 2)\n",
        "    if current_accuracy > max_accuracy:\n",
        "        max_accuracy = current_accuracy\n",
        "        best_x = x\n",
        "\n",
        "rf = RandomForestClassifier(random_state=best_x)\n",
        "rf.fit(x_train_pca, y_train)\n",
        "y_pred_rf = rf.predict(x_test_pca)\n",
        "\n",
        "# Calculate the evaluation metrics\n",
        "score_rf = round(accuracy_score(y_test, y_pred_rf) * 100, 2)\n",
        "precision = round(precision_score(y_test, y_pred_rf) * 100, 2)\n",
        "recall = round(recall_score(y_test, y_pred_rf) * 100, 2)\n",
        "f1 = round(f1_score(y_test, y_pred_rf) * 100, 2)\n",
        "\n",
        "# Print the results\n",
        "print(\"Random Forest Classifier Performance:\")\n",
        "print(\"Accuracy: {0}%\".format(score_rf))\n",
        "print(\"Precision: {0}%\".format(precision))\n",
        "print(\"Recall: {0}%\".format(recall))\n",
        "print(\"F1-score: {0}%\".format(f1))"
      ],
      "metadata": {
        "colab": {
          "base_uri": "https://localhost:8080/"
        },
        "id": "6cbEtpChOlV9",
        "outputId": "bcda2d80-5fed-4c20-b50c-28cc2e82ec65"
      },
      "execution_count": 240,
      "outputs": [
        {
          "output_type": "stream",
          "name": "stdout",
          "text": [
            "Random Forest Classifier Performance:\n",
            "Accuracy: 89.5%\n",
            "Precision: 90.91%\n",
            "Recall: 90.0%\n",
            "F1-score: 90.45%\n"
          ]
        }
      ]
    },
    {
      "cell_type": "markdown",
      "source": [
        "## Evaluation Metrics"
      ],
      "metadata": {
        "id": "S6iv-CoFcwC_"
      }
    },
    {
      "cell_type": "markdown",
      "source": [
        "### AUC ROC Curve"
      ],
      "metadata": {
        "id": "BsA4_hXkjK6V"
      }
    },
    {
      "cell_type": "code",
      "source": [
        "import pandas as pd\n",
        "import matplotlib.pyplot as plt\n",
        "from sklearn.metrics import roc_curve, roc_auc_score\n",
        "import seaborn as sns\n",
        "\n",
        "# Assuming you have the following variables already calculated\n",
        "scores = [score_lr, score_rf, score_svm, score_knn, score_dt, score_nb, score_xgb, score_nn]\n",
        "algorithms = [\"Logistic Regression\", \"Random Forest\", \"Support Vector Machine\", \"K-Nearest Neighbors\", \"Decision Tree\", \"Naive Bayes\", \"XGBoost\", \"Neural Network\"]\n",
        "y_pred_models = [y_pred_lr, y_pred_rf, y_pred_svm, y_pred_knn, y_pred_dt, y_pred_nb, y_pred_xgb, y_pred_nn]\n",
        "\n",
        "# Calculate the AUC-ROC for each model\n",
        "auc_scores = []\n",
        "for i in range(len(algorithms)):\n",
        "    fpr, tpr, _ = roc_curve(y_test, y_pred_models[i])\n",
        "    auc = roc_auc_score(y_test, y_pred_models[i])\n",
        "    auc_scores.append(round(auc * 100, 2))\n",
        "\n",
        "# Set the figure size\n",
        "sns.set(rc={'figure.figsize':(15, 8)})\n",
        "\n",
        "# Plot the AUC-ROC curves\n",
        "plt.figure(figsize=(15, 8))\n",
        "plt.title('AUC-ROC Curves')\n",
        "for i in range(len(algorithms)):\n",
        "    fpr, tpr, _ = roc_curve(y_test, y_pred_models[i])\n",
        "    plt.plot(fpr, tpr, label=algorithms[i])\n",
        "plt.plot([0, 1], [0, 1], 'k--', label='Random Classifier')\n",
        "plt.xlabel(\"False Positive Rate\")\n",
        "plt.ylabel(\"True Positive Rate\")\n",
        "plt.xlim([0.0, 1.0])\n",
        "plt.ylim([0.0, 1.0])\n",
        "plt.legend(loc=\"lower right\")\n",
        "plt.show()"
      ],
      "metadata": {
        "id": "hjTGmdVhQLFn",
        "colab": {
          "base_uri": "https://localhost:8080/",
          "height": 646
        },
        "outputId": "3f95b3f3-18cc-461c-aa83-7d06fdff7c80"
      },
      "execution_count": 241,
      "outputs": [
        {
          "output_type": "display_data",
          "data": {
            "text/plain": [
              "<Figure size 1500x800 with 1 Axes>"
            ],
            "image/png": "[encoded data removed]"
          },
          "metadata": {}
        }
      ]
    },
    {
      "cell_type": "markdown",
      "source": [
        "### Accuracy Scores Comparison"
      ],
      "metadata": {
        "id": "XwlywbFrjOyd"
      }
    },
    {
      "cell_type": "code",
      "source": [
        "import pandas as pd\n",
        "\n",
        "scores = [score_lr,score_rf,score_svm,score_knn,score_dt,score_nb,score_xgb, score_nn]\n",
        "algorithms = [\"Logistic Regression\",\"Random Forest\",\"Support Vector Machine\",\"K-Nearest Neighbors\",\"Decision Tree\",\"Naive Bayes\",\"XGBoost\", \"Neural Network\"]\n",
        "\n",
        "for i in range(len(algorithms)):\n",
        "    print(\"The accuracy score achieved using \"+algorithms[i]+\" is: \"+str(scores[i])+\" %\")\n",
        "\n",
        "data = pd.DataFrame({'Accuracy': scores}, index=algorithms)\n",
        "\n",
        "# Set the figure size\n",
        "sns.set(rc={'figure.figsize':(15, 8)})\n",
        "\n",
        "# Create the bar plot\n",
        "ax = sns.barplot(data=data, x=data.index, y='Accuracy')\n",
        "\n",
        "# Set the x and y labels\n",
        "plt.xlabel(\"Algorithms\")\n",
        "plt.ylabel(\"Accuracy score\")"
      ],
      "metadata": {
        "colab": {
          "base_uri": "https://localhost:8080/",
          "height": 791
        },
        "id": "Rn2PXWXWjeGp",
        "outputId": "4db89ac8-123f-4954-e05e-4d87fe8710de"
      },
      "execution_count": 242,
      "outputs": [
        {
          "output_type": "stream",
          "name": "stdout",
          "text": [
            "The accuracy score achieved using Logistic Regression is: 83.43 %\n",
            "The accuracy score achieved using Random Forest is: 89.5 %\n",
            "The accuracy score achieved using Support Vector Machine is: 71.27 %\n",
            "The accuracy score achieved using K-Nearest Neighbors is: 69.61 %\n",
            "The accuracy score achieved using Decision Tree is: 80.11 %\n",
            "The accuracy score achieved using Naive Bayes is: 85.08 %\n",
            "The accuracy score achieved using XGBoost is: 87.85 %\n",
            "The accuracy score achieved using Neural Network is: 82.87 %\n"
          ]
        },
        {
          "output_type": "execute_result",
          "data": {
            "text/plain": [
              "Text(0, 0.5, 'Accuracy score')"
            ]
          },
          "metadata": {},
          "execution_count": 242
        },
        {
          "output_type": "display_data",
          "data": {
            "text/plain": [
              "<Figure size 1500x800 with 1 Axes>"
            ],
            "image/png": "[encoded data removed]"
          },
          "metadata": {}
        }
      ]
    },
    {
      "cell_type": "markdown",
      "source": [
        "## Saving the Model"
      ],
      "metadata": {
        "id": "WDBxgVEuiPon"
      }
    },
    {
      "cell_type": "code",
      "source": [
        "# Save the model # default xgb\n",
        "import pickle\n",
        "\n",
        "model_filename = 'model.pkl'\n",
        "with open(model_filename, 'wb') as file:\n",
        "    pickle.dump(rf, file)\n",
        "print('Model Saved Succesfully!')"
      ],
      "metadata": {
        "id": "4bbl47F_iTD3",
        "colab": {
          "base_uri": "https://localhost:8080/"
        },
        "outputId": "2941aed7-8e8b-4b22-ce20-962c9a8c70f0"
      },
      "execution_count": 243,
      "outputs": [
        {
          "output_type": "stream",
          "name": "stdout",
          "text": [
            "Model Saved Succesfully!\n"
          ]
        }
      ]
    }
  ]
}